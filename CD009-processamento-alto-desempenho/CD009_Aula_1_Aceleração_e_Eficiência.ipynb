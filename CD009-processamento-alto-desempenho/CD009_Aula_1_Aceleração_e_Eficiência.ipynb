{
 "cells": [
  {
   "cell_type": "markdown",
   "metadata": {
    "id": "gco7vsG9RdV7"
   },
   "source": [
    "# Prática de Aceleração e Eficiência\n",
    "\n",
    "Este caderno experimental tem por objetivo calcularmos a aceleração (*speedup*) e eficiência de uma operação quando esta pode ser calculada em paralelo. Utilizaremos como exemplo uma operação que consiste em multiplicar duas matrizes.\n",
    "\n",
    "Empregaremos as bibliotecas `numpy` para lidar com os valores e organização dos dados e `dask` para a paralelização da operação.\n",
    "\n"
   ]
  },
  {
   "cell_type": "markdown",
   "metadata": {
    "id": "vGcwcX4DAc4o"
   },
   "source": [
    "## Instalação de pacotes"
   ]
  },
  {
   "cell_type": "code",
   "execution_count": 46,
   "metadata": {
    "colab": {
     "base_uri": "https://localhost:8080/"
    },
    "id": "0g-tE4SuAewr",
    "outputId": "9dbdfb59-e7c6-4c02-8ea5-c6674c7c84c3"
   },
   "outputs": [
    {
     "name": "stdout",
     "output_type": "stream",
     "text": [
      "Requirement already satisfied: numpy in /home/s113650157/Dev/miniconda3/envs/cd009/lib/python3.10/site-packages (1.23.3)\n",
      "Requirement already satisfied: pandas in /home/s113650157/Dev/miniconda3/envs/cd009/lib/python3.10/site-packages (1.5.0)\n",
      "Requirement already satisfied: numpy>=1.21.0 in /home/s113650157/Dev/miniconda3/envs/cd009/lib/python3.10/site-packages (from pandas) (1.23.3)\n",
      "Requirement already satisfied: pytz>=2020.1 in /home/s113650157/Dev/miniconda3/envs/cd009/lib/python3.10/site-packages (from pandas) (2022.4)\n",
      "Requirement already satisfied: python-dateutil>=2.8.1 in /home/s113650157/Dev/miniconda3/envs/cd009/lib/python3.10/site-packages (from pandas) (2.8.2)\n",
      "Requirement already satisfied: six>=1.5 in /home/s113650157/Dev/miniconda3/envs/cd009/lib/python3.10/site-packages (from python-dateutil>=2.8.1->pandas) (1.16.0)\n",
      "Collecting matplotlib\n",
      "  Downloading matplotlib-3.6.1-cp310-cp310-manylinux_2_17_x86_64.manylinux2014_x86_64.whl (11.8 MB)\n",
      "\u001b[2K     \u001b[38;2;114;156;31m━━━━━━━━━━━━━━━━━━━━━━━━━━━━━━━━━━━━━━━━\u001b[0m \u001b[32m11.8/11.8 MB\u001b[0m \u001b[31m11.0 MB/s\u001b[0m eta \u001b[36m0:00:00\u001b[0mm eta \u001b[36m0:00:01\u001b[0m[36m0:00:01\u001b[0m\n",
      "\u001b[?25hCollecting kiwisolver>=1.0.1\n",
      "  Downloading kiwisolver-1.4.4-cp310-cp310-manylinux_2_12_x86_64.manylinux2010_x86_64.whl (1.6 MB)\n",
      "\u001b[2K     \u001b[38;2;114;156;31m━━━━━━━━━━━━━━━━━━━━━━━━━━━━━━━━━━━━━━━━\u001b[0m \u001b[32m1.6/1.6 MB\u001b[0m \u001b[31m10.5 MB/s\u001b[0m eta \u001b[36m0:00:00\u001b[0mm eta \u001b[36m0:00:01\u001b[0m0:01\u001b[0m\n",
      "\u001b[?25hRequirement already satisfied: python-dateutil>=2.7 in /home/s113650157/Dev/miniconda3/envs/cd009/lib/python3.10/site-packages (from matplotlib) (2.8.2)\n",
      "Requirement already satisfied: numpy>=1.19 in /home/s113650157/Dev/miniconda3/envs/cd009/lib/python3.10/site-packages (from matplotlib) (1.23.3)\n",
      "Requirement already satisfied: pyparsing>=2.2.1 in /home/s113650157/Dev/miniconda3/envs/cd009/lib/python3.10/site-packages (from matplotlib) (3.0.9)\n",
      "Collecting fonttools>=4.22.0\n",
      "  Downloading fonttools-4.37.4-py3-none-any.whl (960 kB)\n",
      "\u001b[2K     \u001b[38;2;114;156;31m━━━━━━━━━━━━━━━━━━━━━━━━━━━━━━━━━━━━━━\u001b[0m \u001b[32m960.8/960.8 kB\u001b[0m \u001b[31m10.9 MB/s\u001b[0m eta \u001b[36m0:00:00\u001b[0m MB/s\u001b[0m eta \u001b[36m0:00:01\u001b[0m:01\u001b[0m\n",
      "\u001b[?25hCollecting contourpy>=1.0.1\n",
      "  Downloading contourpy-1.0.5-cp310-cp310-manylinux_2_17_x86_64.manylinux2014_x86_64.whl (295 kB)\n",
      "\u001b[2K     \u001b[38;2;114;156;31m━━━━━━━━━━━━━━━━━━━━━━━━━━━━━━━━━━━━━━━\u001b[0m \u001b[32m295.9/295.9 kB\u001b[0m \u001b[31m9.9 MB/s\u001b[0m eta \u001b[36m0:00:00\u001b[0m\n",
      "\u001b[?25hCollecting cycler>=0.10\n",
      "  Downloading cycler-0.11.0-py3-none-any.whl (6.4 kB)\n",
      "Requirement already satisfied: packaging>=20.0 in /home/s113650157/Dev/miniconda3/envs/cd009/lib/python3.10/site-packages (from matplotlib) (21.3)\n",
      "Collecting pillow>=6.2.0\n",
      "  Downloading Pillow-9.2.0-cp310-cp310-manylinux_2_28_x86_64.whl (3.2 MB)\n",
      "\u001b[2K     \u001b[38;2;114;156;31m━━━━━━━━━━━━━━━━━━━━━━━━━━━━━━━━━━━━━━━━\u001b[0m \u001b[32m3.2/3.2 MB\u001b[0m \u001b[31m10.4 MB/s\u001b[0m eta \u001b[36m0:00:00\u001b[0mm eta \u001b[36m0:00:01\u001b[0m0:01\u001b[0m:01\u001b[0m\n",
      "\u001b[?25hRequirement already satisfied: six>=1.5 in /home/s113650157/Dev/miniconda3/envs/cd009/lib/python3.10/site-packages (from python-dateutil>=2.7->matplotlib) (1.16.0)\n",
      "Installing collected packages: pillow, kiwisolver, fonttools, cycler, contourpy, matplotlib\n",
      "Successfully installed contourpy-1.0.5 cycler-0.11.0 fonttools-4.37.4 kiwisolver-1.4.4 matplotlib-3.6.1 pillow-9.2.0\n",
      "Requirement already satisfied: dask[distributed] in /home/s113650157/Dev/miniconda3/envs/cd009/lib/python3.10/site-packages (2022.9.2)\n",
      "Requirement already satisfied: pyyaml>=5.3.1 in /home/s113650157/Dev/miniconda3/envs/cd009/lib/python3.10/site-packages (from dask[distributed]) (6.0)\n",
      "Requirement already satisfied: packaging>=20.0 in /home/s113650157/Dev/miniconda3/envs/cd009/lib/python3.10/site-packages (from dask[distributed]) (21.3)\n",
      "Requirement already satisfied: partd>=0.3.10 in /home/s113650157/Dev/miniconda3/envs/cd009/lib/python3.10/site-packages (from dask[distributed]) (1.3.0)\n",
      "Requirement already satisfied: toolz>=0.8.2 in /home/s113650157/Dev/miniconda3/envs/cd009/lib/python3.10/site-packages (from dask[distributed]) (0.12.0)\n",
      "Requirement already satisfied: fsspec>=0.6.0 in /home/s113650157/Dev/miniconda3/envs/cd009/lib/python3.10/site-packages (from dask[distributed]) (2022.8.2)\n",
      "Requirement already satisfied: cloudpickle>=1.1.1 in /home/s113650157/Dev/miniconda3/envs/cd009/lib/python3.10/site-packages (from dask[distributed]) (2.2.0)\n",
      "Requirement already satisfied: distributed==2022.9.2 in /home/s113650157/Dev/miniconda3/envs/cd009/lib/python3.10/site-packages (from dask[distributed]) (2022.9.2)\n",
      "Requirement already satisfied: locket>=1.0.0 in /home/s113650157/Dev/miniconda3/envs/cd009/lib/python3.10/site-packages (from distributed==2022.9.2->dask[distributed]) (1.0.0)\n",
      "Requirement already satisfied: sortedcontainers!=2.0.0,!=2.0.1 in /home/s113650157/Dev/miniconda3/envs/cd009/lib/python3.10/site-packages (from distributed==2022.9.2->dask[distributed]) (2.4.0)\n",
      "Requirement already satisfied: psutil>=5.0 in /home/s113650157/Dev/miniconda3/envs/cd009/lib/python3.10/site-packages (from distributed==2022.9.2->dask[distributed]) (5.9.2)\n",
      "Requirement already satisfied: zict>=0.1.3 in /home/s113650157/Dev/miniconda3/envs/cd009/lib/python3.10/site-packages (from distributed==2022.9.2->dask[distributed]) (2.2.0)\n",
      "Requirement already satisfied: urllib3 in /home/s113650157/Dev/miniconda3/envs/cd009/lib/python3.10/site-packages (from distributed==2022.9.2->dask[distributed]) (1.26.11)\n",
      "Requirement already satisfied: click>=6.6 in /home/s113650157/Dev/miniconda3/envs/cd009/lib/python3.10/site-packages (from distributed==2022.9.2->dask[distributed]) (8.1.3)\n",
      "Requirement already satisfied: jinja2 in /home/s113650157/Dev/miniconda3/envs/cd009/lib/python3.10/site-packages (from distributed==2022.9.2->dask[distributed]) (3.1.2)\n",
      "Requirement already satisfied: tblib>=1.6.0 in /home/s113650157/Dev/miniconda3/envs/cd009/lib/python3.10/site-packages (from distributed==2022.9.2->dask[distributed]) (1.7.0)\n",
      "Requirement already satisfied: msgpack>=0.6.0 in /home/s113650157/Dev/miniconda3/envs/cd009/lib/python3.10/site-packages (from distributed==2022.9.2->dask[distributed]) (1.0.4)\n",
      "Requirement already satisfied: tornado<6.2,>=6.0.3 in /home/s113650157/Dev/miniconda3/envs/cd009/lib/python3.10/site-packages (from distributed==2022.9.2->dask[distributed]) (6.1)\n",
      "Requirement already satisfied: pyparsing!=3.0.5,>=2.0.2 in /home/s113650157/Dev/miniconda3/envs/cd009/lib/python3.10/site-packages (from packaging>=20.0->dask[distributed]) (3.0.9)\n",
      "Requirement already satisfied: heapdict in /home/s113650157/Dev/miniconda3/envs/cd009/lib/python3.10/site-packages (from zict>=0.1.3->distributed==2022.9.2->dask[distributed]) (1.0.1)\n",
      "Requirement already satisfied: MarkupSafe>=2.0 in /home/s113650157/Dev/miniconda3/envs/cd009/lib/python3.10/site-packages (from jinja2->distributed==2022.9.2->dask[distributed]) (2.1.1)\n"
     ]
    }
   ],
   "source": [
    "!pip install numpy\n",
    "!pip install pandas\n",
    "!pip install matplotlib\n",
    "!pip install dask[distributed]"
   ]
  },
  {
   "cell_type": "markdown",
   "metadata": {
    "id": "k1tdFQyaVrBY"
   },
   "source": [
    "## Multiplicação de matriz sequencial (`numpy`)\n",
    "\n"
   ]
  },
  {
   "cell_type": "markdown",
   "metadata": {
    "id": "-onGZdFESUaU"
   },
   "source": [
    "### Carga das bibliotecas necessárias"
   ]
  },
  {
   "cell_type": "code",
   "execution_count": 2,
   "metadata": {
    "id": "go1sRjqnSWnm"
   },
   "outputs": [],
   "source": [
    "# setar variáeis de ambiente para execução sequencial\n",
    "import os\n",
    "os.environ[\"MKL_NUM_THREADS\"] = \"1\" \n",
    "os.environ[\"OMP_NUM_THREADS\"] = \"1\" \n",
    "# numpy para gerenciar dados\n",
    "import numpy as np\n",
    "# timeit para medir o tempo\n",
    "from timeit import default_timer as timer"
   ]
  },
  {
   "cell_type": "markdown",
   "metadata": {
    "id": "EJQZ0lXhSTdL"
   },
   "source": [
    "### Criação das matrizes com valores aleatórios"
   ]
  },
  {
   "cell_type": "markdown",
   "metadata": {
    "id": "S2ppYLG6VNfU"
   },
   "source": [
    "Criamos a matriz A com as dimensões especificadas na chamada."
   ]
  },
  {
   "cell_type": "code",
   "execution_count": 3,
   "metadata": {
    "colab": {
     "base_uri": "https://localhost:8080/"
    },
    "id": "28PBRt-URFCY",
    "outputId": "96f5ef64-ebb9-4c73-de7f-aaa52abea7e3"
   },
   "outputs": [
    {
     "data": {
      "text/plain": [
       "array([[0.85015036, 0.18309851, 0.63670515, ..., 0.07482443, 0.62346928,\n",
       "        0.95011652],\n",
       "       [0.1941551 , 0.99347785, 0.86127041, ..., 0.98970753, 0.06638186,\n",
       "        0.58360955],\n",
       "       [0.64003241, 0.84128334, 0.18036577, ..., 0.36872586, 0.04910144,\n",
       "        0.09317597],\n",
       "       ...,\n",
       "       [0.79895833, 0.93950652, 0.2536955 , ..., 0.95779086, 0.64172049,\n",
       "        0.31437653],\n",
       "       [0.1301509 , 0.16212672, 0.00555235, ..., 0.69229724, 0.24976511,\n",
       "        0.26902971],\n",
       "       [0.00734595, 0.82487426, 0.52638208, ..., 0.31526602, 0.61569296,\n",
       "        0.39283807]])"
      ]
     },
     "execution_count": 3,
     "metadata": {},
     "output_type": "execute_result"
    }
   ],
   "source": [
    "# reshape: -1 = sem definição de linhas, 8000 = quantidade de colunas\n",
    "A = np.random.rand(48000000).reshape(-1, 8000)\n",
    "A"
   ]
  },
  {
   "cell_type": "markdown",
   "metadata": {
    "id": "RL4JfFoVVRU8"
   },
   "source": [
    "Criamos a matriz B.\n",
    "- A primeira dimensão de B deve ser igual à segunda dimensão de A para que a operação de múltiplicação seja possível."
   ]
  },
  {
   "cell_type": "code",
   "execution_count": 4,
   "metadata": {
    "colab": {
     "base_uri": "https://localhost:8080/"
    },
    "id": "gkZlzfhxSoCP",
    "outputId": "ed4bcab0-dfa4-421d-eb13-a3f4e9ba122f"
   },
   "outputs": [
    {
     "data": {
      "text/plain": [
       "array([[0.10443018, 0.11708437, 0.20954629, ..., 0.80304561, 0.75292317,\n",
       "        0.17769305],\n",
       "       [0.38059119, 0.35803032, 0.49979193, ..., 0.86173493, 0.74510067,\n",
       "        0.89016187],\n",
       "       [0.10178359, 0.12242471, 0.96387693, ..., 0.92086467, 0.55949042,\n",
       "        0.71735677],\n",
       "       ...,\n",
       "       [0.00613916, 0.59509134, 0.72476816, ..., 0.65909961, 0.51967828,\n",
       "        0.82132617],\n",
       "       [0.2422428 , 0.95961372, 0.04107329, ..., 0.46929137, 0.42631033,\n",
       "        0.08909182],\n",
       "       [0.69011613, 0.64476608, 0.50880262, ..., 0.88114454, 0.57709735,\n",
       "        0.06796289]])"
      ]
     },
     "execution_count": 4,
     "metadata": {},
     "output_type": "execute_result"
    }
   ],
   "source": [
    "B = np.random.rand(48000000).reshape(8000, -1)\n",
    "B"
   ]
  },
  {
   "cell_type": "markdown",
   "metadata": {
    "id": "muJQ1uLJVwF_"
   },
   "source": [
    "### Lançamos a multiplicação"
   ]
  },
  {
   "cell_type": "markdown",
   "metadata": {
    "id": "5gG0mB_EVgQA"
   },
   "source": [
    "Realizamos a multiplicação de matriz e medimos o tempo de execução."
   ]
  },
  {
   "cell_type": "code",
   "execution_count": 5,
   "metadata": {
    "colab": {
     "base_uri": "https://localhost:8080/"
    },
    "id": "OpYwoEnYSrQW",
    "outputId": "f874b809-6ae8-46ed-f049-b4cf5cc18a77"
   },
   "outputs": [
    {
     "name": "stdout",
     "output_type": "stream",
     "text": [
      "21.21504428400658\n"
     ]
    }
   ],
   "source": [
    "start = timer()\n",
    "C = np.matmul(A, B)\n",
    "end = timer()\n",
    "print(end - start)"
   ]
  },
  {
   "cell_type": "markdown",
   "metadata": {
    "id": "kLUnpOv-VjuC"
   },
   "source": [
    "Podemos observar acima o tempo que levou para realizar esta multiplicação de matrizes de maneira sequencial."
   ]
  },
  {
   "cell_type": "markdown",
   "metadata": {
    "id": "LWqZBCLzWB9f"
   },
   "source": [
    "## Multiplicação de matriz sequencial (`numpy` e `dask`)\n"
   ]
  },
  {
   "cell_type": "code",
   "execution_count": 6,
   "metadata": {
    "id": "aX-IeCBcYMK-"
   },
   "outputs": [],
   "source": [
    "import dask.array as da"
   ]
  },
  {
   "cell_type": "code",
   "execution_count": 7,
   "metadata": {
    "colab": {
     "base_uri": "https://localhost:8080/",
     "height": 167
    },
    "id": "l051YPwGYQ1P",
    "outputId": "fa7889c5-83c8-4173-c9d5-321f795cc4dc"
   },
   "outputs": [
    {
     "data": {
      "text/html": [
       "<table>\n",
       "    <tr>\n",
       "        <td>\n",
       "            <table>\n",
       "                <thead>\n",
       "                    <tr>\n",
       "                        <td> </td>\n",
       "                        <th> Array </th>\n",
       "                        <th> Chunk </th>\n",
       "                    </tr>\n",
       "                </thead>\n",
       "                <tbody>\n",
       "                    \n",
       "                    <tr>\n",
       "                        <th> Bytes </th>\n",
       "                        <td> 366.21 MiB </td>\n",
       "                        <td> 366.21 MiB </td>\n",
       "                    </tr>\n",
       "                    \n",
       "                    <tr>\n",
       "                        <th> Shape </th>\n",
       "                        <td> (6000, 8000) </td>\n",
       "                        <td> (6000, 8000) </td>\n",
       "                    </tr>\n",
       "                    <tr>\n",
       "                        <th> Count </th>\n",
       "                        <td> 1 Graph Layer </td>\n",
       "                        <td> 1 Chunks </td>\n",
       "                    </tr>\n",
       "                    <tr>\n",
       "                    <th> Type </th>\n",
       "                    <td> float64 </td>\n",
       "                    <td> numpy.ndarray </td>\n",
       "                    </tr>\n",
       "                </tbody>\n",
       "            </table>\n",
       "        </td>\n",
       "        <td>\n",
       "        <svg width=\"170\" height=\"140\" style=\"stroke:rgb(0,0,0);stroke-width:1\" >\n",
       "\n",
       "  <!-- Horizontal lines -->\n",
       "  <line x1=\"0\" y1=\"0\" x2=\"120\" y2=\"0\" style=\"stroke-width:2\" />\n",
       "  <line x1=\"0\" y1=\"90\" x2=\"120\" y2=\"90\" style=\"stroke-width:2\" />\n",
       "\n",
       "  <!-- Vertical lines -->\n",
       "  <line x1=\"0\" y1=\"0\" x2=\"0\" y2=\"90\" style=\"stroke-width:2\" />\n",
       "  <line x1=\"120\" y1=\"0\" x2=\"120\" y2=\"90\" style=\"stroke-width:2\" />\n",
       "\n",
       "  <!-- Colored Rectangle -->\n",
       "  <polygon points=\"0.0,0.0 120.0,0.0 120.0,90.0 0.0,90.0\" style=\"fill:#ECB172A0;stroke-width:0\"/>\n",
       "\n",
       "  <!-- Text -->\n",
       "  <text x=\"60.000000\" y=\"110.000000\" font-size=\"1.0rem\" font-weight=\"100\" text-anchor=\"middle\" >8000</text>\n",
       "  <text x=\"140.000000\" y=\"45.000000\" font-size=\"1.0rem\" font-weight=\"100\" text-anchor=\"middle\" transform=\"rotate(-90,140.000000,45.000000)\">6000</text>\n",
       "</svg>\n",
       "        </td>\n",
       "    </tr>\n",
       "</table>"
      ],
      "text/plain": [
       "dask.array<array, shape=(6000, 8000), dtype=float64, chunksize=(6000, 8000), chunktype=numpy.ndarray>"
      ]
     },
     "execution_count": 7,
     "metadata": {},
     "output_type": "execute_result"
    }
   ],
   "source": [
    "dA = da.from_array(A, chunks=(6000,8000))\n",
    "dA\n"
   ]
  },
  {
   "cell_type": "code",
   "execution_count": 8,
   "metadata": {
    "colab": {
     "base_uri": "https://localhost:8080/",
     "height": 197
    },
    "id": "m-5nPkA9cnBb",
    "outputId": "7a86d9ee-7be3-44af-b7d3-87dd77ff9496"
   },
   "outputs": [
    {
     "data": {
      "text/html": [
       "<table>\n",
       "    <tr>\n",
       "        <td>\n",
       "            <table>\n",
       "                <thead>\n",
       "                    <tr>\n",
       "                        <td> </td>\n",
       "                        <th> Array </th>\n",
       "                        <th> Chunk </th>\n",
       "                    </tr>\n",
       "                </thead>\n",
       "                <tbody>\n",
       "                    \n",
       "                    <tr>\n",
       "                        <th> Bytes </th>\n",
       "                        <td> 366.21 MiB </td>\n",
       "                        <td> 366.21 MiB </td>\n",
       "                    </tr>\n",
       "                    \n",
       "                    <tr>\n",
       "                        <th> Shape </th>\n",
       "                        <td> (8000, 6000) </td>\n",
       "                        <td> (8000, 6000) </td>\n",
       "                    </tr>\n",
       "                    <tr>\n",
       "                        <th> Count </th>\n",
       "                        <td> 1 Graph Layer </td>\n",
       "                        <td> 1 Chunks </td>\n",
       "                    </tr>\n",
       "                    <tr>\n",
       "                    <th> Type </th>\n",
       "                    <td> float64 </td>\n",
       "                    <td> numpy.ndarray </td>\n",
       "                    </tr>\n",
       "                </tbody>\n",
       "            </table>\n",
       "        </td>\n",
       "        <td>\n",
       "        <svg width=\"140\" height=\"170\" style=\"stroke:rgb(0,0,0);stroke-width:1\" >\n",
       "\n",
       "  <!-- Horizontal lines -->\n",
       "  <line x1=\"0\" y1=\"0\" x2=\"90\" y2=\"0\" style=\"stroke-width:2\" />\n",
       "  <line x1=\"0\" y1=\"120\" x2=\"90\" y2=\"120\" style=\"stroke-width:2\" />\n",
       "\n",
       "  <!-- Vertical lines -->\n",
       "  <line x1=\"0\" y1=\"0\" x2=\"0\" y2=\"120\" style=\"stroke-width:2\" />\n",
       "  <line x1=\"90\" y1=\"0\" x2=\"90\" y2=\"120\" style=\"stroke-width:2\" />\n",
       "\n",
       "  <!-- Colored Rectangle -->\n",
       "  <polygon points=\"0.0,0.0 90.0,0.0 90.0,120.0 0.0,120.0\" style=\"fill:#ECB172A0;stroke-width:0\"/>\n",
       "\n",
       "  <!-- Text -->\n",
       "  <text x=\"45.000000\" y=\"140.000000\" font-size=\"1.0rem\" font-weight=\"100\" text-anchor=\"middle\" >6000</text>\n",
       "  <text x=\"110.000000\" y=\"60.000000\" font-size=\"1.0rem\" font-weight=\"100\" text-anchor=\"middle\" transform=\"rotate(-90,110.000000,60.000000)\">8000</text>\n",
       "</svg>\n",
       "        </td>\n",
       "    </tr>\n",
       "</table>"
      ],
      "text/plain": [
       "dask.array<array, shape=(8000, 6000), dtype=float64, chunksize=(8000, 6000), chunktype=numpy.ndarray>"
      ]
     },
     "execution_count": 8,
     "metadata": {},
     "output_type": "execute_result"
    }
   ],
   "source": [
    "dB = da.from_array(B, chunks=(8000,6000))\n",
    "dB"
   ]
  },
  {
   "cell_type": "code",
   "execution_count": 9,
   "metadata": {
    "colab": {
     "base_uri": "https://localhost:8080/"
    },
    "id": "WrG6IMFQc0C8",
    "outputId": "446252f6-c560-4265-b0a0-a3ae372230fd"
   },
   "outputs": [
    {
     "name": "stdout",
     "output_type": "stream",
     "text": [
      "12.531170914997347\n"
     ]
    }
   ],
   "source": [
    "start = timer()\n",
    "dC = da.matmul(dA, dB).compute()\n",
    "end = timer()\n",
    "print(end-start)"
   ]
  },
  {
   "cell_type": "markdown",
   "metadata": {
    "id": "0Br-UQESmhcY"
   },
   "source": [
    "## Multiplicação de matriz com paralelismo (`numpy` e `dask`)\n",
    "\n",
    "\n"
   ]
  },
  {
   "cell_type": "code",
   "execution_count": 40,
   "metadata": {
    "id": "MNGIeBngglpP"
   },
   "outputs": [
    {
     "name": "stderr",
     "output_type": "stream",
     "text": [
      "/home/s113650157/Dev/miniconda3/envs/cd009/lib/python3.10/site-packages/distributed/node.py:183: UserWarning: Port 8787 is already in use.\n",
      "Perhaps you already have a cluster running?\n",
      "Hosting the HTTP server on port 33083 instead\n",
      "  warnings.warn(\n"
     ]
    }
   ],
   "source": [
    "import dask.array as da\n",
    "from dask.distributed import Client, LocalCluster\n",
    "cluster = LocalCluster(n_workers = 2, threads_per_worker = 1)\n",
    "client = Client(cluster)"
   ]
  },
  {
   "cell_type": "code",
   "execution_count": 11,
   "metadata": {
    "colab": {
     "base_uri": "https://localhost:8080/",
     "height": 34
    },
    "id": "HN66gs8tt8RB",
    "outputId": "bd66b62f-b5ac-42c7-9ec1-4ab6581ab4cf"
   },
   "outputs": [
    {
     "data": {
      "text/html": [
       "<strong>Scheduler: </strong>tcp://127.0.0.1:34075\n",
       "<span style=\"color: var(--jp-ui-font-color2, gray)\"> workers: </span>2\n",
       "<span style=\"color: var(--jp-ui-font-color2, gray)\"> cores: </span>2\n",
       "<span style=\"color: var(--jp-ui-font-color2, gray)\"> tasks: </span>0"
      ],
      "text/plain": [
       "<Scheduler 'tcp://127.0.0.1:34075', workers: 2, cores: 2, tasks: 0>"
      ]
     },
     "execution_count": 11,
     "metadata": {},
     "output_type": "execute_result"
    }
   ],
   "source": [
    "cluster.scheduler"
   ]
  },
  {
   "cell_type": "code",
   "execution_count": 12,
   "metadata": {
    "colab": {
     "base_uri": "https://localhost:8080/"
    },
    "id": "1PQgjXhMuXF0",
    "outputId": "5712e37a-a081-4e02-e00d-e5d04f859eab"
   },
   "outputs": [
    {
     "data": {
      "text/plain": [
       "{0: <Nanny: tcp://127.0.0.1:42759, threads: 1>,\n",
       " 1: <Nanny: tcp://127.0.0.1:33025, threads: 1>}"
      ]
     },
     "execution_count": 12,
     "metadata": {},
     "output_type": "execute_result"
    }
   ],
   "source": [
    "cluster.workers"
   ]
  },
  {
   "cell_type": "code",
   "execution_count": 13,
   "metadata": {
    "colab": {
     "base_uri": "https://localhost:8080/",
     "height": 162
    },
    "id": "1kYrkrfGupwI",
    "outputId": "20083d69-c554-4e47-e71b-ae5897674c9e"
   },
   "outputs": [
    {
     "data": {
      "text/html": [
       "<div>\n",
       "    <div style=\"width: 24px; height: 24px; background-color: #e1e1e1; border: 3px solid #9D9D9D; border-radius: 5px; position: absolute;\"> </div>\n",
       "    <div style=\"margin-left: 48px;\">\n",
       "        <h3 style=\"margin-bottom: 0px;\">Client</h3>\n",
       "        <p style=\"color: #9D9D9D; margin-bottom: 0px;\">Client-9773d6cb-4975-11ed-9b9b-88aedd30bf94</p>\n",
       "        <table style=\"width: 100%; text-align: left;\">\n",
       "\n",
       "        <tr>\n",
       "        \n",
       "            <td style=\"text-align: left;\"><strong>Connection method:</strong> Cluster object</td>\n",
       "            <td style=\"text-align: left;\"><strong>Cluster type:</strong> distributed.LocalCluster</td>\n",
       "        \n",
       "        </tr>\n",
       "\n",
       "        \n",
       "            <tr>\n",
       "                <td style=\"text-align: left;\">\n",
       "                    <strong>Dashboard: </strong> <a href=\"http://127.0.0.1:8787/status\" target=\"_blank\">http://127.0.0.1:8787/status</a>\n",
       "                </td>\n",
       "                <td style=\"text-align: left;\"></td>\n",
       "            </tr>\n",
       "        \n",
       "\n",
       "        </table>\n",
       "\n",
       "        \n",
       "            <details>\n",
       "            <summary style=\"margin-bottom: 20px;\"><h3 style=\"display: inline;\">Cluster Info</h3></summary>\n",
       "            <div class=\"jp-RenderedHTMLCommon jp-RenderedHTML jp-mod-trusted jp-OutputArea-output\">\n",
       "    <div style=\"width: 24px; height: 24px; background-color: #e1e1e1; border: 3px solid #9D9D9D; border-radius: 5px; position: absolute;\">\n",
       "    </div>\n",
       "    <div style=\"margin-left: 48px;\">\n",
       "        <h3 style=\"margin-bottom: 0px; margin-top: 0px;\">LocalCluster</h3>\n",
       "        <p style=\"color: #9D9D9D; margin-bottom: 0px;\">53fa96dd</p>\n",
       "        <table style=\"width: 100%; text-align: left;\">\n",
       "            <tr>\n",
       "                <td style=\"text-align: left;\">\n",
       "                    <strong>Dashboard:</strong> <a href=\"http://127.0.0.1:8787/status\" target=\"_blank\">http://127.0.0.1:8787/status</a>\n",
       "                </td>\n",
       "                <td style=\"text-align: left;\">\n",
       "                    <strong>Workers:</strong> 2\n",
       "                </td>\n",
       "            </tr>\n",
       "            <tr>\n",
       "                <td style=\"text-align: left;\">\n",
       "                    <strong>Total threads:</strong> 2\n",
       "                </td>\n",
       "                <td style=\"text-align: left;\">\n",
       "                    <strong>Total memory:</strong> 14.89 GiB\n",
       "                </td>\n",
       "            </tr>\n",
       "            \n",
       "            <tr>\n",
       "    <td style=\"text-align: left;\"><strong>Status:</strong> running</td>\n",
       "    <td style=\"text-align: left;\"><strong>Using processes:</strong> True</td>\n",
       "</tr>\n",
       "\n",
       "            \n",
       "        </table>\n",
       "\n",
       "        <details>\n",
       "            <summary style=\"margin-bottom: 20px;\">\n",
       "                <h3 style=\"display: inline;\">Scheduler Info</h3>\n",
       "            </summary>\n",
       "\n",
       "            <div style=\"\">\n",
       "    <div>\n",
       "        <div style=\"width: 24px; height: 24px; background-color: #FFF7E5; border: 3px solid #FF6132; border-radius: 5px; position: absolute;\"> </div>\n",
       "        <div style=\"margin-left: 48px;\">\n",
       "            <h3 style=\"margin-bottom: 0px;\">Scheduler</h3>\n",
       "            <p style=\"color: #9D9D9D; margin-bottom: 0px;\">Scheduler-0a85f6ac-2f0e-4ac8-aea1-ebeae69124ba</p>\n",
       "            <table style=\"width: 100%; text-align: left;\">\n",
       "                <tr>\n",
       "                    <td style=\"text-align: left;\">\n",
       "                        <strong>Comm:</strong> tcp://127.0.0.1:34075\n",
       "                    </td>\n",
       "                    <td style=\"text-align: left;\">\n",
       "                        <strong>Workers:</strong> 2\n",
       "                    </td>\n",
       "                </tr>\n",
       "                <tr>\n",
       "                    <td style=\"text-align: left;\">\n",
       "                        <strong>Dashboard:</strong> <a href=\"http://127.0.0.1:8787/status\" target=\"_blank\">http://127.0.0.1:8787/status</a>\n",
       "                    </td>\n",
       "                    <td style=\"text-align: left;\">\n",
       "                        <strong>Total threads:</strong> 2\n",
       "                    </td>\n",
       "                </tr>\n",
       "                <tr>\n",
       "                    <td style=\"text-align: left;\">\n",
       "                        <strong>Started:</strong> Just now\n",
       "                    </td>\n",
       "                    <td style=\"text-align: left;\">\n",
       "                        <strong>Total memory:</strong> 14.89 GiB\n",
       "                    </td>\n",
       "                </tr>\n",
       "            </table>\n",
       "        </div>\n",
       "    </div>\n",
       "\n",
       "    <details style=\"margin-left: 48px;\">\n",
       "        <summary style=\"margin-bottom: 20px;\">\n",
       "            <h3 style=\"display: inline;\">Workers</h3>\n",
       "        </summary>\n",
       "\n",
       "        \n",
       "        <div style=\"margin-bottom: 20px;\">\n",
       "            <div style=\"width: 24px; height: 24px; background-color: #DBF5FF; border: 3px solid #4CC9FF; border-radius: 5px; position: absolute;\"> </div>\n",
       "            <div style=\"margin-left: 48px;\">\n",
       "            <details>\n",
       "                <summary>\n",
       "                    <h4 style=\"margin-bottom: 0px; display: inline;\">Worker: 0</h4>\n",
       "                </summary>\n",
       "                <table style=\"width: 100%; text-align: left;\">\n",
       "                    <tr>\n",
       "                        <td style=\"text-align: left;\">\n",
       "                            <strong>Comm: </strong> tcp://127.0.0.1:42759\n",
       "                        </td>\n",
       "                        <td style=\"text-align: left;\">\n",
       "                            <strong>Total threads: </strong> 1\n",
       "                        </td>\n",
       "                    </tr>\n",
       "                    <tr>\n",
       "                        <td style=\"text-align: left;\">\n",
       "                            <strong>Dashboard: </strong> <a href=\"http://127.0.0.1:43427/status\" target=\"_blank\">http://127.0.0.1:43427/status</a>\n",
       "                        </td>\n",
       "                        <td style=\"text-align: left;\">\n",
       "                            <strong>Memory: </strong> 7.44 GiB\n",
       "                        </td>\n",
       "                    </tr>\n",
       "                    <tr>\n",
       "                        <td style=\"text-align: left;\">\n",
       "                            <strong>Nanny: </strong> tcp://127.0.0.1:33255\n",
       "                        </td>\n",
       "                        <td style=\"text-align: left;\"></td>\n",
       "                    </tr>\n",
       "                    <tr>\n",
       "                        <td colspan=\"2\" style=\"text-align: left;\">\n",
       "                            <strong>Local directory: </strong> /tmp/dask-worker-space/worker-qzesg_xa\n",
       "                        </td>\n",
       "                    </tr>\n",
       "\n",
       "                    \n",
       "\n",
       "                    \n",
       "\n",
       "                </table>\n",
       "            </details>\n",
       "            </div>\n",
       "        </div>\n",
       "        \n",
       "        <div style=\"margin-bottom: 20px;\">\n",
       "            <div style=\"width: 24px; height: 24px; background-color: #DBF5FF; border: 3px solid #4CC9FF; border-radius: 5px; position: absolute;\"> </div>\n",
       "            <div style=\"margin-left: 48px;\">\n",
       "            <details>\n",
       "                <summary>\n",
       "                    <h4 style=\"margin-bottom: 0px; display: inline;\">Worker: 1</h4>\n",
       "                </summary>\n",
       "                <table style=\"width: 100%; text-align: left;\">\n",
       "                    <tr>\n",
       "                        <td style=\"text-align: left;\">\n",
       "                            <strong>Comm: </strong> tcp://127.0.0.1:33025\n",
       "                        </td>\n",
       "                        <td style=\"text-align: left;\">\n",
       "                            <strong>Total threads: </strong> 1\n",
       "                        </td>\n",
       "                    </tr>\n",
       "                    <tr>\n",
       "                        <td style=\"text-align: left;\">\n",
       "                            <strong>Dashboard: </strong> <a href=\"http://127.0.0.1:33949/status\" target=\"_blank\">http://127.0.0.1:33949/status</a>\n",
       "                        </td>\n",
       "                        <td style=\"text-align: left;\">\n",
       "                            <strong>Memory: </strong> 7.44 GiB\n",
       "                        </td>\n",
       "                    </tr>\n",
       "                    <tr>\n",
       "                        <td style=\"text-align: left;\">\n",
       "                            <strong>Nanny: </strong> tcp://127.0.0.1:45451\n",
       "                        </td>\n",
       "                        <td style=\"text-align: left;\"></td>\n",
       "                    </tr>\n",
       "                    <tr>\n",
       "                        <td colspan=\"2\" style=\"text-align: left;\">\n",
       "                            <strong>Local directory: </strong> /tmp/dask-worker-space/worker-o2p_ldw4\n",
       "                        </td>\n",
       "                    </tr>\n",
       "\n",
       "                    \n",
       "\n",
       "                    \n",
       "\n",
       "                </table>\n",
       "            </details>\n",
       "            </div>\n",
       "        </div>\n",
       "        \n",
       "\n",
       "    </details>\n",
       "</div>\n",
       "\n",
       "        </details>\n",
       "    </div>\n",
       "</div>\n",
       "            </details>\n",
       "        \n",
       "\n",
       "    </div>\n",
       "</div>"
      ],
      "text/plain": [
       "<Client: 'tcp://127.0.0.1:34075' processes=2 threads=2, memory=14.89 GiB>"
      ]
     },
     "execution_count": 13,
     "metadata": {},
     "output_type": "execute_result"
    }
   ],
   "source": [
    "client"
   ]
  },
  {
   "cell_type": "code",
   "execution_count": 14,
   "metadata": {
    "colab": {
     "base_uri": "https://localhost:8080/",
     "height": 167
    },
    "id": "Jgk9YrOnnXCb",
    "outputId": "10ca08da-e023-4c35-980f-ad73a0079c46"
   },
   "outputs": [
    {
     "data": {
      "text/html": [
       "<table>\n",
       "    <tr>\n",
       "        <td>\n",
       "            <table>\n",
       "                <thead>\n",
       "                    <tr>\n",
       "                        <td> </td>\n",
       "                        <th> Array </th>\n",
       "                        <th> Chunk </th>\n",
       "                    </tr>\n",
       "                </thead>\n",
       "                <tbody>\n",
       "                    \n",
       "                    <tr>\n",
       "                        <th> Bytes </th>\n",
       "                        <td> 366.21 MiB </td>\n",
       "                        <td> 183.11 MiB </td>\n",
       "                    </tr>\n",
       "                    \n",
       "                    <tr>\n",
       "                        <th> Shape </th>\n",
       "                        <td> (6000, 8000) </td>\n",
       "                        <td> (3000, 8000) </td>\n",
       "                    </tr>\n",
       "                    <tr>\n",
       "                        <th> Count </th>\n",
       "                        <td> 1 Graph Layer </td>\n",
       "                        <td> 2 Chunks </td>\n",
       "                    </tr>\n",
       "                    <tr>\n",
       "                    <th> Type </th>\n",
       "                    <td> float64 </td>\n",
       "                    <td> numpy.ndarray </td>\n",
       "                    </tr>\n",
       "                </tbody>\n",
       "            </table>\n",
       "        </td>\n",
       "        <td>\n",
       "        <svg width=\"170\" height=\"140\" style=\"stroke:rgb(0,0,0);stroke-width:1\" >\n",
       "\n",
       "  <!-- Horizontal lines -->\n",
       "  <line x1=\"0\" y1=\"0\" x2=\"120\" y2=\"0\" style=\"stroke-width:2\" />\n",
       "  <line x1=\"0\" y1=\"45\" x2=\"120\" y2=\"45\" />\n",
       "  <line x1=\"0\" y1=\"90\" x2=\"120\" y2=\"90\" style=\"stroke-width:2\" />\n",
       "\n",
       "  <!-- Vertical lines -->\n",
       "  <line x1=\"0\" y1=\"0\" x2=\"0\" y2=\"90\" style=\"stroke-width:2\" />\n",
       "  <line x1=\"120\" y1=\"0\" x2=\"120\" y2=\"90\" style=\"stroke-width:2\" />\n",
       "\n",
       "  <!-- Colored Rectangle -->\n",
       "  <polygon points=\"0.0,0.0 120.0,0.0 120.0,90.0 0.0,90.0\" style=\"fill:#ECB172A0;stroke-width:0\"/>\n",
       "\n",
       "  <!-- Text -->\n",
       "  <text x=\"60.000000\" y=\"110.000000\" font-size=\"1.0rem\" font-weight=\"100\" text-anchor=\"middle\" >8000</text>\n",
       "  <text x=\"140.000000\" y=\"45.000000\" font-size=\"1.0rem\" font-weight=\"100\" text-anchor=\"middle\" transform=\"rotate(-90,140.000000,45.000000)\">6000</text>\n",
       "</svg>\n",
       "        </td>\n",
       "    </tr>\n",
       "</table>"
      ],
      "text/plain": [
       "dask.array<array, shape=(6000, 8000), dtype=float64, chunksize=(3000, 8000), chunktype=numpy.ndarray>"
      ]
     },
     "execution_count": 14,
     "metadata": {},
     "output_type": "execute_result"
    }
   ],
   "source": [
    "# dA = da.from_array(A) #, chunks=(8000, -1))\n",
    "dA = da.from_array(A , chunks=(3000, -1))\n",
    "dA"
   ]
  },
  {
   "cell_type": "code",
   "execution_count": 15,
   "metadata": {
    "colab": {
     "base_uri": "https://localhost:8080/",
     "height": 197
    },
    "id": "dNO0Dh6UndJj",
    "outputId": "6f6eafef-2436-4cfa-8e8f-1457a53ee979"
   },
   "outputs": [
    {
     "data": {
      "text/html": [
       "<table>\n",
       "    <tr>\n",
       "        <td>\n",
       "            <table>\n",
       "                <thead>\n",
       "                    <tr>\n",
       "                        <td> </td>\n",
       "                        <th> Array </th>\n",
       "                        <th> Chunk </th>\n",
       "                    </tr>\n",
       "                </thead>\n",
       "                <tbody>\n",
       "                    \n",
       "                    <tr>\n",
       "                        <th> Bytes </th>\n",
       "                        <td> 366.21 MiB </td>\n",
       "                        <td> 183.11 MiB </td>\n",
       "                    </tr>\n",
       "                    \n",
       "                    <tr>\n",
       "                        <th> Shape </th>\n",
       "                        <td> (8000, 6000) </td>\n",
       "                        <td> (8000, 3000) </td>\n",
       "                    </tr>\n",
       "                    <tr>\n",
       "                        <th> Count </th>\n",
       "                        <td> 1 Graph Layer </td>\n",
       "                        <td> 2 Chunks </td>\n",
       "                    </tr>\n",
       "                    <tr>\n",
       "                    <th> Type </th>\n",
       "                    <td> float64 </td>\n",
       "                    <td> numpy.ndarray </td>\n",
       "                    </tr>\n",
       "                </tbody>\n",
       "            </table>\n",
       "        </td>\n",
       "        <td>\n",
       "        <svg width=\"140\" height=\"170\" style=\"stroke:rgb(0,0,0);stroke-width:1\" >\n",
       "\n",
       "  <!-- Horizontal lines -->\n",
       "  <line x1=\"0\" y1=\"0\" x2=\"90\" y2=\"0\" style=\"stroke-width:2\" />\n",
       "  <line x1=\"0\" y1=\"120\" x2=\"90\" y2=\"120\" style=\"stroke-width:2\" />\n",
       "\n",
       "  <!-- Vertical lines -->\n",
       "  <line x1=\"0\" y1=\"0\" x2=\"0\" y2=\"120\" style=\"stroke-width:2\" />\n",
       "  <line x1=\"45\" y1=\"0\" x2=\"45\" y2=\"120\" />\n",
       "  <line x1=\"90\" y1=\"0\" x2=\"90\" y2=\"120\" style=\"stroke-width:2\" />\n",
       "\n",
       "  <!-- Colored Rectangle -->\n",
       "  <polygon points=\"0.0,0.0 90.0,0.0 90.0,120.0 0.0,120.0\" style=\"fill:#ECB172A0;stroke-width:0\"/>\n",
       "\n",
       "  <!-- Text -->\n",
       "  <text x=\"45.000000\" y=\"140.000000\" font-size=\"1.0rem\" font-weight=\"100\" text-anchor=\"middle\" >6000</text>\n",
       "  <text x=\"110.000000\" y=\"60.000000\" font-size=\"1.0rem\" font-weight=\"100\" text-anchor=\"middle\" transform=\"rotate(-90,110.000000,60.000000)\">8000</text>\n",
       "</svg>\n",
       "        </td>\n",
       "    </tr>\n",
       "</table>"
      ],
      "text/plain": [
       "dask.array<array, shape=(8000, 6000), dtype=float64, chunksize=(8000, 3000), chunktype=numpy.ndarray>"
      ]
     },
     "execution_count": 15,
     "metadata": {},
     "output_type": "execute_result"
    }
   ],
   "source": [
    "dB = da.from_array(B) #, chunks=(-1, 8000))\n",
    "dB = da.from_array(B , chunks=(-1, 3000))\n",
    "dB"
   ]
  },
  {
   "cell_type": "code",
   "execution_count": 16,
   "metadata": {
    "id": "ZsH0TOkvy344"
   },
   "outputs": [],
   "source": [
    "dC = da.matmul(dA, dB)"
   ]
  },
  {
   "cell_type": "code",
   "execution_count": 17,
   "metadata": {
    "colab": {
     "base_uri": "https://localhost:8080/",
     "height": 586
    },
    "id": "nCeoWbsrvsBW",
    "outputId": "c158c7f6-f3e7-4ec2-805b-8e65037f4e99"
   },
   "outputs": [
    {
     "ename": "RuntimeError",
     "evalue": "No visualization engine detected, please install graphviz or ipycytoscape",
     "output_type": "error",
     "traceback": [
      "\u001b[0;31m---------------------------------------------------------------------------\u001b[0m",
      "\u001b[0;31mRuntimeError\u001b[0m                              Traceback (most recent call last)",
      "Input \u001b[0;32mIn [17]\u001b[0m, in \u001b[0;36m<cell line: 1>\u001b[0;34m()\u001b[0m\n\u001b[0;32m----> 1\u001b[0m \u001b[43mdC\u001b[49m\u001b[38;5;241;43m.\u001b[39;49m\u001b[43mvisualize\u001b[49m\u001b[43m(\u001b[49m\u001b[43m)\u001b[49m\n",
      "File \u001b[0;32m~/Dev/miniconda3/envs/cd009/lib/python3.10/site-packages/dask/base.py:241\u001b[0m, in \u001b[0;36mDaskMethodsMixin.visualize\u001b[0;34m(self, filename, format, optimize_graph, **kwargs)\u001b[0m\n\u001b[1;32m    197\u001b[0m \u001b[38;5;28;01mdef\u001b[39;00m \u001b[38;5;21mvisualize\u001b[39m(\u001b[38;5;28mself\u001b[39m, filename\u001b[38;5;241m=\u001b[39m\u001b[38;5;124m\"\u001b[39m\u001b[38;5;124mmydask\u001b[39m\u001b[38;5;124m\"\u001b[39m, \u001b[38;5;28mformat\u001b[39m\u001b[38;5;241m=\u001b[39m\u001b[38;5;28;01mNone\u001b[39;00m, optimize_graph\u001b[38;5;241m=\u001b[39m\u001b[38;5;28;01mFalse\u001b[39;00m, \u001b[38;5;241m*\u001b[39m\u001b[38;5;241m*\u001b[39mkwargs):\n\u001b[1;32m    198\u001b[0m     \u001b[38;5;124;03m\"\"\"Render the computation of this object's task graph using graphviz.\u001b[39;00m\n\u001b[1;32m    199\u001b[0m \n\u001b[1;32m    200\u001b[0m \u001b[38;5;124;03m    Requires ``graphviz`` to be installed.\u001b[39;00m\n\u001b[0;32m   (...)\u001b[0m\n\u001b[1;32m    239\u001b[0m \u001b[38;5;124;03m    https://docs.dask.org/en/latest/optimize.html\u001b[39;00m\n\u001b[1;32m    240\u001b[0m \u001b[38;5;124;03m    \"\"\"\u001b[39;00m\n\u001b[0;32m--> 241\u001b[0m     \u001b[38;5;28;01mreturn\u001b[39;00m \u001b[43mvisualize\u001b[49m\u001b[43m(\u001b[49m\n\u001b[1;32m    242\u001b[0m \u001b[43m        \u001b[49m\u001b[38;5;28;43mself\u001b[39;49m\u001b[43m,\u001b[49m\n\u001b[1;32m    243\u001b[0m \u001b[43m        \u001b[49m\u001b[43mfilename\u001b[49m\u001b[38;5;241;43m=\u001b[39;49m\u001b[43mfilename\u001b[49m\u001b[43m,\u001b[49m\n\u001b[1;32m    244\u001b[0m \u001b[43m        \u001b[49m\u001b[38;5;28;43mformat\u001b[39;49m\u001b[38;5;241;43m=\u001b[39;49m\u001b[38;5;28;43mformat\u001b[39;49m\u001b[43m,\u001b[49m\n\u001b[1;32m    245\u001b[0m \u001b[43m        \u001b[49m\u001b[43moptimize_graph\u001b[49m\u001b[38;5;241;43m=\u001b[39;49m\u001b[43moptimize_graph\u001b[49m\u001b[43m,\u001b[49m\n\u001b[1;32m    246\u001b[0m \u001b[43m        \u001b[49m\u001b[38;5;241;43m*\u001b[39;49m\u001b[38;5;241;43m*\u001b[39;49m\u001b[43mkwargs\u001b[49m\u001b[43m,\u001b[49m\n\u001b[1;32m    247\u001b[0m \u001b[43m    \u001b[49m\u001b[43m)\u001b[49m\n",
      "File \u001b[0;32m~/Dev/miniconda3/envs/cd009/lib/python3.10/site-packages/dask/base.py:803\u001b[0m, in \u001b[0;36mvisualize\u001b[0;34m(filename, traverse, optimize_graph, maxval, engine, *args, **kwargs)\u001b[0m\n\u001b[1;32m    801\u001b[0m     \u001b[38;5;28;01mreturn\u001b[39;00m cytoscape_graph(dsk, filename\u001b[38;5;241m=\u001b[39mfilename, \u001b[38;5;241m*\u001b[39m\u001b[38;5;241m*\u001b[39mkwargs)\n\u001b[1;32m    802\u001b[0m \u001b[38;5;28;01melif\u001b[39;00m engine \u001b[38;5;129;01mis\u001b[39;00m \u001b[38;5;28;01mNone\u001b[39;00m:\n\u001b[0;32m--> 803\u001b[0m     \u001b[38;5;28;01mraise\u001b[39;00m \u001b[38;5;167;01mRuntimeError\u001b[39;00m(\n\u001b[1;32m    804\u001b[0m         \u001b[38;5;124m\"\u001b[39m\u001b[38;5;124mNo visualization engine detected, please install graphviz or ipycytoscape\u001b[39m\u001b[38;5;124m\"\u001b[39m\n\u001b[1;32m    805\u001b[0m     )\n\u001b[1;32m    806\u001b[0m \u001b[38;5;28;01melse\u001b[39;00m:\n\u001b[1;32m    807\u001b[0m     \u001b[38;5;28;01mraise\u001b[39;00m \u001b[38;5;167;01mValueError\u001b[39;00m(\u001b[38;5;124mf\u001b[39m\u001b[38;5;124m\"\u001b[39m\u001b[38;5;124mVisualization engine \u001b[39m\u001b[38;5;132;01m{\u001b[39;00mengine\u001b[38;5;132;01m}\u001b[39;00m\u001b[38;5;124m not recognized\u001b[39m\u001b[38;5;124m\"\u001b[39m)\n",
      "\u001b[0;31mRuntimeError\u001b[0m: No visualization engine detected, please install graphviz or ipycytoscape"
     ]
    }
   ],
   "source": [
    "dC.visualize()"
   ]
  },
  {
   "cell_type": "code",
   "execution_count": 18,
   "metadata": {
    "colab": {
     "base_uri": "https://localhost:8080/"
    },
    "id": "T0NduSDUgo01",
    "outputId": "ab189439-d0f3-4d1c-f6ec-ad16dd3489a3"
   },
   "outputs": [
    {
     "name": "stdout",
     "output_type": "stream",
     "text": [
      "14.129324588022428\n"
     ]
    }
   ],
   "source": [
    "start = timer()\n",
    "dC.compute()\n",
    "end = timer()\n",
    "print(end-start)"
   ]
  },
  {
   "cell_type": "markdown",
   "metadata": {
    "id": "4LhxJHiMARnm"
   },
   "source": [
    "## Calculando Aceleração e Eficiência\n",
    "\n",
    "Vamos agora dimensionar o cluster local para que a quantidade de processos trabalhadores mude de 1 (execução que pode ser considerada sequencial) até uma determinada quantidade de trabalhadores. Vamos coletar os tempos de execução de cada execução e calcular a aceleração e eficiência. Os dados serão salvos em um arquivo CSV `experimento.csv` para que possamos analisá-los posteriormente."
   ]
  },
  {
   "cell_type": "code",
   "execution_count": 41,
   "metadata": {
    "id": "njzUKOJHCJZA"
   },
   "outputs": [],
   "source": [
    "import csv\n",
    "csv_header = [\"p\", \"time\"]\n",
    "with open('experimento.csv', 'w') as file:\n",
    "  writer = csv.writer(file)\n",
    "  writer.writerow([\"p\", \"time\"]) # o cabeçalho do CSV\n",
    "  for p in range(1, 10):\n",
    "#   for p in [1, 2, 3, 4, 5]:\n",
    "    # Vamos configurar o tamanho do cluster\n",
    "    cluster.scale(p)\n",
    "    # Vamos executar o experimento\n",
    "    start = timer()\n",
    "    dC.compute()\n",
    "    end = timer()\n",
    "    # Salvar no arquivo CSV a tupla\n",
    "    writer.writerow([p, end - start])\n",
    "\n"
   ]
  },
  {
   "cell_type": "markdown",
   "metadata": {
    "id": "Oe9p41IgIMZ1"
   },
   "source": [
    "Vamos ver o conteúdo do arquivo com as medidas de desempenho"
   ]
  },
  {
   "cell_type": "code",
   "execution_count": 42,
   "metadata": {
    "colab": {
     "base_uri": "https://localhost:8080/"
    },
    "id": "h8_23ILMIOwx",
    "outputId": "0688ff52-9525-439a-fb2b-1e7a12b5303e"
   },
   "outputs": [
    {
     "name": "stdout",
     "output_type": "stream",
     "text": [
      "p,time\r",
      "\r\n",
      "1,19.376346801989712\r",
      "\r\n",
      "2,14.081433445011498\r",
      "\r\n",
      "3,13.47333813199657\r",
      "\r\n",
      "4,12.904201199999079\r",
      "\r\n",
      "5,12.153792991972296\r",
      "\r\n",
      "6,12.032799434993649\r",
      "\r\n",
      "7,12.192361958994297\r",
      "\r\n",
      "8,9.910391555982642\r",
      "\r\n",
      "9,9.324121276004007\r",
      "\r\n"
     ]
    }
   ],
   "source": [
    "!cat experimento.csv"
   ]
  },
  {
   "cell_type": "code",
   "execution_count": 43,
   "metadata": {
    "colab": {
     "base_uri": "https://localhost:8080/"
    },
    "id": "zAvOfj2yC6s4",
    "outputId": "ce3aa0e5-a34e-41c1-b8f6-bf4412a8c464"
   },
   "outputs": [
    {
     "name": "stdout",
     "output_type": "stream",
     "text": [
      "   p       time\n",
      "0  1  19.376347\n",
      "1  2  14.081433\n",
      "2  3  13.473338\n",
      "3  4  12.904201\n",
      "4  5  12.153793\n",
      "5  6  12.032799\n",
      "6  7  12.192362\n",
      "7  8   9.910392\n",
      "8  9   9.324121\n"
     ]
    }
   ],
   "source": [
    "import pandas as pd\n",
    "df = pd.read_csv('experimento.csv')\n",
    "print(df.to_string()) "
   ]
  },
  {
   "cell_type": "code",
   "execution_count": 44,
   "metadata": {
    "colab": {
     "base_uri": "https://localhost:8080/",
     "height": 175
    },
    "id": "AvuEymxzDPv8",
    "outputId": "3d025122-8371-4abb-bf41-a958bba57703"
   },
   "outputs": [
    {
     "data": {
      "text/html": [
       "<div>\n",
       "<style scoped>\n",
       "    .dataframe tbody tr th:only-of-type {\n",
       "        vertical-align: middle;\n",
       "    }\n",
       "\n",
       "    .dataframe tbody tr th {\n",
       "        vertical-align: top;\n",
       "    }\n",
       "\n",
       "    .dataframe thead th {\n",
       "        text-align: right;\n",
       "    }\n",
       "</style>\n",
       "<table border=\"1\" class=\"dataframe\">\n",
       "  <thead>\n",
       "    <tr style=\"text-align: right;\">\n",
       "      <th></th>\n",
       "      <th>p</th>\n",
       "      <th>time</th>\n",
       "      <th>seq</th>\n",
       "      <th>speedup</th>\n",
       "      <th>eficiencia</th>\n",
       "    </tr>\n",
       "  </thead>\n",
       "  <tbody>\n",
       "    <tr>\n",
       "      <th>0</th>\n",
       "      <td>1</td>\n",
       "      <td>19.376347</td>\n",
       "      <td>19.376347</td>\n",
       "      <td>1.000000</td>\n",
       "      <td>1.000000</td>\n",
       "    </tr>\n",
       "    <tr>\n",
       "      <th>1</th>\n",
       "      <td>2</td>\n",
       "      <td>14.081433</td>\n",
       "      <td>19.376347</td>\n",
       "      <td>1.376021</td>\n",
       "      <td>0.688010</td>\n",
       "    </tr>\n",
       "    <tr>\n",
       "      <th>2</th>\n",
       "      <td>3</td>\n",
       "      <td>13.473338</td>\n",
       "      <td>19.376347</td>\n",
       "      <td>1.438125</td>\n",
       "      <td>0.479375</td>\n",
       "    </tr>\n",
       "    <tr>\n",
       "      <th>3</th>\n",
       "      <td>4</td>\n",
       "      <td>12.904201</td>\n",
       "      <td>19.376347</td>\n",
       "      <td>1.501553</td>\n",
       "      <td>0.375388</td>\n",
       "    </tr>\n",
       "    <tr>\n",
       "      <th>4</th>\n",
       "      <td>5</td>\n",
       "      <td>12.153793</td>\n",
       "      <td>19.376347</td>\n",
       "      <td>1.594263</td>\n",
       "      <td>0.318853</td>\n",
       "    </tr>\n",
       "    <tr>\n",
       "      <th>5</th>\n",
       "      <td>6</td>\n",
       "      <td>12.032799</td>\n",
       "      <td>19.376347</td>\n",
       "      <td>1.610294</td>\n",
       "      <td>0.268382</td>\n",
       "    </tr>\n",
       "    <tr>\n",
       "      <th>6</th>\n",
       "      <td>7</td>\n",
       "      <td>12.192362</td>\n",
       "      <td>19.376347</td>\n",
       "      <td>1.589220</td>\n",
       "      <td>0.227031</td>\n",
       "    </tr>\n",
       "    <tr>\n",
       "      <th>7</th>\n",
       "      <td>8</td>\n",
       "      <td>9.910392</td>\n",
       "      <td>19.376347</td>\n",
       "      <td>1.955155</td>\n",
       "      <td>0.244394</td>\n",
       "    </tr>\n",
       "    <tr>\n",
       "      <th>8</th>\n",
       "      <td>9</td>\n",
       "      <td>9.324121</td>\n",
       "      <td>19.376347</td>\n",
       "      <td>2.078088</td>\n",
       "      <td>0.230899</td>\n",
       "    </tr>\n",
       "  </tbody>\n",
       "</table>\n",
       "</div>"
      ],
      "text/plain": [
       "   p       time        seq   speedup  eficiencia\n",
       "0  1  19.376347  19.376347  1.000000    1.000000\n",
       "1  2  14.081433  19.376347  1.376021    0.688010\n",
       "2  3  13.473338  19.376347  1.438125    0.479375\n",
       "3  4  12.904201  19.376347  1.501553    0.375388\n",
       "4  5  12.153793  19.376347  1.594263    0.318853\n",
       "5  6  12.032799  19.376347  1.610294    0.268382\n",
       "6  7  12.192362  19.376347  1.589220    0.227031\n",
       "7  8   9.910392  19.376347  1.955155    0.244394\n",
       "8  9   9.324121  19.376347  2.078088    0.230899"
      ]
     },
     "execution_count": 44,
     "metadata": {},
     "output_type": "execute_result"
    }
   ],
   "source": [
    "tseq = df.query('p == 1')['time'].iloc[0]\n",
    "tseq\n",
    "df = df.assign(seq = tseq)\n",
    "df = df.assign(speedup = df['seq']/df['time'])\n",
    "df = df.assign(eficiencia = df['speedup']/df['p'])\n",
    "df"
   ]
  },
  {
   "cell_type": "code",
   "execution_count": 56,
   "metadata": {
    "colab": {
     "base_uri": "https://localhost:8080/",
     "height": 269
    },
    "id": "fWJNhmLPGsbS",
    "outputId": "56da081b-3b2d-4f49-b1b8-18a6bbfcab6b"
   },
   "outputs": [
    {
     "data": {
      "image/png": "[encoded data removed]",
      "text/plain": [
       "<Figure size 432x288 with 1 Axes>"
      ]
     },
     "metadata": {
      "needs_background": "light"
     },
     "output_type": "display_data"
    }
   ],
   "source": [
    "import matplotlib.pyplot as plt\n",
    "variable = 'speedup'\n",
    "plt.scatter(df['p'], df[variable])\n",
    "plt.plot(df['p'], df[variable])\n",
    "plt.axvline(x=0, c=\"black\", label=\"x=0\")\n",
    "plt.axhline(y=0, c=\"black\", label=\"y=0\")\n",
    "plt.xlim([1, 9])\n",
    "plt.ylim([8, 20])\n",
    "plt.show()\n"
   ]
  },
  {
   "cell_type": "markdown",
   "metadata": {
    "id": "7CiBoL4NLiC3"
   },
   "source": [
    "A interpretação do gráfico nos permite delinear conclusões interessantes sobre a paralelização tanto do ponto de vista do software quanto do hardware. Outros elementos que podem influenciar o desempenho incluem o tamanho e a quantidade de chunks."
   ]
  },
  {
   "cell_type": "code",
   "execution_count": 57,
   "metadata": {},
   "outputs": [
    {
     "data": {
      "image/png": "[encoded data removed]",
      "text/plain": [
       "<Figure size 432x288 with 1 Axes>"
      ]
     },
     "metadata": {
      "needs_background": "light"
     },
     "output_type": "display_data"
    }
   ],
   "source": [
    "import matplotlib.pyplot as plt\n",
    "variable = 'eficiencia'\n",
    "plt.scatter(df['p'], df[variable])\n",
    "plt.plot(df['p'], df[variable])\n",
    "plt.axvline(x=0, c=\"black\", label=\"x=0\")\n",
    "plt.axhline(y=0, c=\"black\", label=\"y=0\")\n",
    "plt.xlim([1, 9])\n",
    "plt.ylim([0.2, 1.2])\n",
    "plt.show()"
   ]
  },
  {
   "cell_type": "code",
   "execution_count": null,
   "metadata": {},
   "outputs": [],
   "source": []
  }
 ],
 "metadata": {
  "colab": {
   "collapsed_sections": [],
   "provenance": [],
   "toc_visible": true
  },
  "kernelspec": {
   "display_name": "Python 3 (ipykernel)",
   "language": "python",
   "name": "python3"
  },
  "language_info": {
   "codemirror_mode": {
    "name": "ipython",
    "version": 3
   },
   "file_extension": ".py",
   "mimetype": "text/x-python",
   "name": "python",
   "nbconvert_exporter": "python",
   "pygments_lexer": "ipython3",
   "version": "3.10.6"
  }
 },
 "nbformat": 4,
 "nbformat_minor": 1
}
