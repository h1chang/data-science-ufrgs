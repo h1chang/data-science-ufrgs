{
  "cells": [
    {
      "cell_type": "markdown",
      "metadata": {
        "id": "gco7vsG9RdV7"
      },
      "source": [
        "# Prática sobre \"Aceleração e Eficiência\"\n",
        "\n",
        "Este caderno experimental tem por objetivo calcularmos a aceleração (*speedup*) e eficiência de uma operação quando esta pode ser calculada em paralelo. Utilizaremos como exemplo uma operação que consiste em multiplicar duas matrizes.\n",
        "\n",
        "Empregaremos as bibliotecas `numpy` para lidar com os valores e organização dos dados e `dask` para a paralelização da operação.\n",
        "\n"
      ]
    },
    {
      "cell_type": "markdown",
      "metadata": {
        "id": "vGcwcX4DAc4o"
      },
      "source": [
        "## Instalação de pacotes"
      ]
    },
    {
      "cell_type": "code",
      "execution_count": null,
      "metadata": {
        "colab": {
          "base_uri": "https://localhost:8080/"
        },
        "id": "0g-tE4SuAewr",
        "outputId": "5daaf5d8-11ae-4caa-cf47-992d26a894b6"
      },
      "outputs": [
        {
          "name": "stdout",
          "output_type": "stream",
          "text": [
            "Looking in indexes: https://pypi.org/simple, https://us-python.pkg.dev/colab-wheels/public/simple/\n",
            "Requirement already satisfied: numpy in /usr/local/lib/python3.7/dist-packages (1.21.6)\n",
            "Looking in indexes: https://pypi.org/simple, https://us-python.pkg.dev/colab-wheels/public/simple/\n",
            "Requirement already satisfied: dask[distributed] in /usr/local/lib/python3.7/dist-packages (2022.2.0)\n",
            "Requirement already satisfied: packaging>=20.0 in /usr/local/lib/python3.7/dist-packages (from dask[distributed]) (21.3)\n",
            "Requirement already satisfied: pyyaml>=5.3.1 in /usr/local/lib/python3.7/dist-packages (from dask[distributed]) (6.0)\n",
            "Requirement already satisfied: fsspec>=0.6.0 in /usr/local/lib/python3.7/dist-packages (from dask[distributed]) (2022.8.2)\n",
            "Requirement already satisfied: cloudpickle>=1.1.1 in /usr/local/lib/python3.7/dist-packages (from dask[distributed]) (1.5.0)\n",
            "Requirement already satisfied: toolz>=0.8.2 in /usr/local/lib/python3.7/dist-packages (from dask[distributed]) (0.12.0)\n",
            "Requirement already satisfied: partd>=0.3.10 in /usr/local/lib/python3.7/dist-packages (from dask[distributed]) (1.3.0)\n",
            "Requirement already satisfied: distributed==2022.02.0 in /usr/local/lib/python3.7/dist-packages (from dask[distributed]) (2022.2.0)\n",
            "Requirement already satisfied: zict>=0.1.3 in /usr/local/lib/python3.7/dist-packages (from distributed==2022.02.0->dask[distributed]) (2.2.0)\n",
            "Requirement already satisfied: tblib>=1.6.0 in /usr/local/lib/python3.7/dist-packages (from distributed==2022.02.0->dask[distributed]) (1.7.0)\n",
            "Requirement already satisfied: setuptools in /usr/local/lib/python3.7/dist-packages (from distributed==2022.02.0->dask[distributed]) (57.4.0)\n",
            "Requirement already satisfied: sortedcontainers!=2.0.0,!=2.0.1 in /usr/local/lib/python3.7/dist-packages (from distributed==2022.02.0->dask[distributed]) (2.4.0)\n",
            "Requirement already satisfied: psutil>=5.0 in /usr/local/lib/python3.7/dist-packages (from distributed==2022.02.0->dask[distributed]) (5.4.8)\n",
            "Requirement already satisfied: jinja2 in /usr/local/lib/python3.7/dist-packages (from distributed==2022.02.0->dask[distributed]) (2.11.3)\n",
            "Requirement already satisfied: msgpack>=0.6.0 in /usr/local/lib/python3.7/dist-packages (from distributed==2022.02.0->dask[distributed]) (1.0.4)\n",
            "Requirement already satisfied: click>=6.6 in /usr/local/lib/python3.7/dist-packages (from distributed==2022.02.0->dask[distributed]) (7.1.2)\n",
            "Requirement already satisfied: tornado>=5 in /usr/local/lib/python3.7/dist-packages (from distributed==2022.02.0->dask[distributed]) (5.1.1)\n",
            "Requirement already satisfied: pyparsing!=3.0.5,>=2.0.2 in /usr/local/lib/python3.7/dist-packages (from packaging>=20.0->dask[distributed]) (3.0.9)\n",
            "Requirement already satisfied: locket in /usr/local/lib/python3.7/dist-packages (from partd>=0.3.10->dask[distributed]) (1.0.0)\n",
            "Requirement already satisfied: heapdict in /usr/local/lib/python3.7/dist-packages (from zict>=0.1.3->distributed==2022.02.0->dask[distributed]) (1.0.1)\n",
            "Requirement already satisfied: MarkupSafe>=0.23 in /usr/local/lib/python3.7/dist-packages (from jinja2->distributed==2022.02.0->dask[distributed]) (2.0.1)\n"
          ]
        }
      ],
      "source": [
        "!pip install matplotlib\n",
        "!pip install csv\n",
        "!pip install numpy\n",
        "!pip install pandas\n",
        "!pip install dask[distributed]"
      ]
    },
    {
      "cell_type": "markdown",
      "metadata": {
        "id": "k1tdFQyaVrBY"
      },
      "source": [
        "## Multiplicação de matriz sequencial (`numpy`)\n",
        "\n"
      ]
    },
    {
      "cell_type": "markdown",
      "metadata": {
        "id": "-onGZdFESUaU"
      },
      "source": [
        "### Carga das bibliotecas necessárias"
      ]
    },
    {
      "cell_type": "code",
      "execution_count": null,
      "metadata": {
        "id": "go1sRjqnSWnm"
      },
      "outputs": [],
      "source": [
        "# setar variáeis de ambiente para execução sequencial\n",
        "import os\n",
        "os.environ[\"MKL_NUM_THREADS\"] = \"1\" \n",
        "os.environ[\"OMP_NUM_THREADS\"] = \"1\" \n",
        "# numpy para gerenciar dados\n",
        "import numpy as np\n",
        "# timeit para medir o tempo\n",
        "from timeit import default_timer as timer"
      ]
    },
    {
      "cell_type": "markdown",
      "metadata": {
        "id": "EJQZ0lXhSTdL"
      },
      "source": [
        "### Criação das matrizes com valores aleatórios"
      ]
    },
    {
      "cell_type": "markdown",
      "metadata": {
        "id": "S2ppYLG6VNfU"
      },
      "source": [
        "Criamos a matriz A com as dimensões especificadas na chamada."
      ]
    },
    {
      "cell_type": "code",
      "execution_count": null,
      "metadata": {
        "colab": {
          "base_uri": "https://localhost:8080/"
        },
        "id": "28PBRt-URFCY",
        "outputId": "e837581a-a4ee-4aee-e392-db3ae32e4c28"
      },
      "outputs": [
        {
          "data": {
            "text/plain": [
              "array([[0.19721774, 0.7018424 , 0.04706917, ..., 0.82625009, 0.61566891,\n",
              "        0.73309733],\n",
              "       [0.49596954, 0.83655748, 0.40700526, ..., 0.61447678, 0.87505836,\n",
              "        0.10186446],\n",
              "       [0.30045573, 0.23436089, 0.82828348, ..., 0.98193596, 0.79933037,\n",
              "        0.64326005],\n",
              "       ...,\n",
              "       [0.7188277 , 0.27876298, 0.32598962, ..., 0.08714095, 0.59938975,\n",
              "        0.23057609],\n",
              "       [0.62764454, 0.38085625, 0.61585922, ..., 0.72848863, 0.92748793,\n",
              "        0.32153993],\n",
              "       [0.69196756, 0.24071694, 0.95369559, ..., 0.88980143, 0.77383167,\n",
              "        0.05306995]])"
            ]
          },
          "execution_count": 60,
          "metadata": {},
          "output_type": "execute_result"
        }
      ],
      "source": [
        "A = np.random.random((6000, 8000))\n",
        "A"
      ]
    },
    {
      "cell_type": "markdown",
      "metadata": {
        "id": "RL4JfFoVVRU8"
      },
      "source": [
        "Criamos a matriz B.\n",
        "- A primeira dimensão de B deve ser igual à segunda dimensão de A para que a operação de múltiplicação seja possível."
      ]
    },
    {
      "cell_type": "code",
      "execution_count": null,
      "metadata": {
        "colab": {
          "base_uri": "https://localhost:8080/"
        },
        "id": "gkZlzfhxSoCP",
        "outputId": "8e4b7550-0cbf-4326-915f-e27414fb2174"
      },
      "outputs": [
        {
          "data": {
            "text/plain": [
              "array([[0.64388018, 0.88924962, 0.6651185 , ..., 0.1630194 , 0.76178752,\n",
              "        0.79671707],\n",
              "       [0.93599141, 0.53095348, 0.78632307, ..., 0.13424107, 0.62530323,\n",
              "        0.99978011],\n",
              "       [0.16854727, 0.88619318, 0.3652711 , ..., 0.96053121, 0.71469344,\n",
              "        0.62939573],\n",
              "       ...,\n",
              "       [0.5450731 , 0.95015012, 0.21824383, ..., 0.20050206, 0.28702035,\n",
              "        0.19815873],\n",
              "       [0.2602123 , 0.91012815, 0.96167152, ..., 0.26345539, 0.53398674,\n",
              "        0.10534142],\n",
              "       [0.52373949, 0.67748096, 0.27185347, ..., 0.16379563, 0.55030337,\n",
              "        0.78706714]])"
            ]
          },
          "execution_count": 61,
          "metadata": {},
          "output_type": "execute_result"
        }
      ],
      "source": [
        "B = np.random.random((8000, 6000))\n",
        "B"
      ]
    },
    {
      "cell_type": "markdown",
      "metadata": {
        "id": "muJQ1uLJVwF_"
      },
      "source": [
        "### Lançamos a multiplicação"
      ]
    },
    {
      "cell_type": "markdown",
      "metadata": {
        "id": "5gG0mB_EVgQA"
      },
      "source": [
        "Realizamos a multiplicação de matriz e medimos o tempo de execução."
      ]
    },
    {
      "cell_type": "code",
      "execution_count": null,
      "metadata": {
        "colab": {
          "base_uri": "https://localhost:8080/"
        },
        "id": "OpYwoEnYSrQW",
        "outputId": "40f12363-0d6b-4583-c761-1cf253b57b3a"
      },
      "outputs": [
        {
          "name": "stdout",
          "output_type": "stream",
          "text": [
            "25.821558732000994\n"
          ]
        }
      ],
      "source": [
        "start = timer()\n",
        "C = np.matmul(A, B)\n",
        "end = timer()\n",
        "print(end - start)"
      ]
    },
    {
      "cell_type": "markdown",
      "metadata": {
        "id": "kLUnpOv-VjuC"
      },
      "source": [
        "Podemos observar acima o tempo que levou para realizar esta multiplicação de matrizes de maneira sequencial."
      ]
    },
    {
      "cell_type": "markdown",
      "metadata": {
        "id": "LWqZBCLzWB9f"
      },
      "source": [
        "## Multiplicação de matriz sequencial (`numpy` e `dask`)\n"
      ]
    },
    {
      "cell_type": "code",
      "execution_count": null,
      "metadata": {
        "id": "aX-IeCBcYMK-"
      },
      "outputs": [],
      "source": [
        "import dask.array as da"
      ]
    },
    {
      "cell_type": "code",
      "execution_count": null,
      "metadata": {
        "colab": {
          "base_uri": "https://localhost:8080/",
          "height": 167
        },
        "id": "l051YPwGYQ1P",
        "outputId": "14ae0e51-2d09-4854-c882-4b993fb5c719"
      },
      "outputs": [
        {
          "data": {
            "text/html": [
              "<table>\n",
              "    <tr>\n",
              "        <td>\n",
              "            <table>\n",
              "                <thead>\n",
              "                    <tr>\n",
              "                        <td> </td>\n",
              "                        <th> Array </th>\n",
              "                        <th> Chunk </th>\n",
              "                    </tr>\n",
              "                </thead>\n",
              "                <tbody>\n",
              "                    \n",
              "                    <tr>\n",
              "                        <th> Bytes </th>\n",
              "                        <td> 366.21 MiB </td>\n",
              "                        <td> 366.21 MiB </td>\n",
              "                    </tr>\n",
              "                    \n",
              "                    <tr>\n",
              "                        <th> Shape </th>\n",
              "                        <td> (6000, 8000) </td>\n",
              "                        <td> (6000, 8000) </td>\n",
              "                    </tr>\n",
              "                    <tr>\n",
              "                        <th> Count </th>\n",
              "                        <td> 1 Graph Layer </td>\n",
              "                        <td> 1 Chunks </td>\n",
              "                    </tr>\n",
              "                    <tr>\n",
              "                    <th> Type </th>\n",
              "                    <td> float64 </td>\n",
              "                    <td> numpy.ndarray </td>\n",
              "                    </tr>\n",
              "                </tbody>\n",
              "            </table>\n",
              "        </td>\n",
              "        <td>\n",
              "        <svg width=\"170\" height=\"140\" style=\"stroke:rgb(0,0,0);stroke-width:1\" >\n",
              "\n",
              "  <!-- Horizontal lines -->\n",
              "  <line x1=\"0\" y1=\"0\" x2=\"120\" y2=\"0\" style=\"stroke-width:2\" />\n",
              "  <line x1=\"0\" y1=\"90\" x2=\"120\" y2=\"90\" style=\"stroke-width:2\" />\n",
              "\n",
              "  <!-- Vertical lines -->\n",
              "  <line x1=\"0\" y1=\"0\" x2=\"0\" y2=\"90\" style=\"stroke-width:2\" />\n",
              "  <line x1=\"120\" y1=\"0\" x2=\"120\" y2=\"90\" style=\"stroke-width:2\" />\n",
              "\n",
              "  <!-- Colored Rectangle -->\n",
              "  <polygon points=\"0.0,0.0 120.0,0.0 120.0,90.0 0.0,90.0\" style=\"fill:#ECB172A0;stroke-width:0\"/>\n",
              "\n",
              "  <!-- Text -->\n",
              "  <text x=\"60.000000\" y=\"110.000000\" font-size=\"1.0rem\" font-weight=\"100\" text-anchor=\"middle\" >8000</text>\n",
              "  <text x=\"140.000000\" y=\"45.000000\" font-size=\"1.0rem\" font-weight=\"100\" text-anchor=\"middle\" transform=\"rotate(-90,140.000000,45.000000)\">6000</text>\n",
              "</svg>\n",
              "        </td>\n",
              "    </tr>\n",
              "</table>"
            ],
            "text/plain": [
              "dask.array<array, shape=(6000, 8000), dtype=float64, chunksize=(6000, 8000), chunktype=numpy.ndarray>"
            ]
          },
          "execution_count": 64,
          "metadata": {},
          "output_type": "execute_result"
        }
      ],
      "source": [
        "dA = da.from_array(A, chunks=(6000,8000))\n",
        "dA\n"
      ]
    },
    {
      "cell_type": "code",
      "execution_count": null,
      "metadata": {
        "colab": {
          "base_uri": "https://localhost:8080/",
          "height": 197
        },
        "id": "m-5nPkA9cnBb",
        "outputId": "e93718b8-7ffe-494b-c1b2-c26060be6672"
      },
      "outputs": [
        {
          "data": {
            "text/html": [
              "<table>\n",
              "    <tr>\n",
              "        <td>\n",
              "            <table>\n",
              "                <thead>\n",
              "                    <tr>\n",
              "                        <td> </td>\n",
              "                        <th> Array </th>\n",
              "                        <th> Chunk </th>\n",
              "                    </tr>\n",
              "                </thead>\n",
              "                <tbody>\n",
              "                    \n",
              "                    <tr>\n",
              "                        <th> Bytes </th>\n",
              "                        <td> 366.21 MiB </td>\n",
              "                        <td> 366.21 MiB </td>\n",
              "                    </tr>\n",
              "                    \n",
              "                    <tr>\n",
              "                        <th> Shape </th>\n",
              "                        <td> (8000, 6000) </td>\n",
              "                        <td> (8000, 6000) </td>\n",
              "                    </tr>\n",
              "                    <tr>\n",
              "                        <th> Count </th>\n",
              "                        <td> 1 Graph Layer </td>\n",
              "                        <td> 1 Chunks </td>\n",
              "                    </tr>\n",
              "                    <tr>\n",
              "                    <th> Type </th>\n",
              "                    <td> float64 </td>\n",
              "                    <td> numpy.ndarray </td>\n",
              "                    </tr>\n",
              "                </tbody>\n",
              "            </table>\n",
              "        </td>\n",
              "        <td>\n",
              "        <svg width=\"140\" height=\"170\" style=\"stroke:rgb(0,0,0);stroke-width:1\" >\n",
              "\n",
              "  <!-- Horizontal lines -->\n",
              "  <line x1=\"0\" y1=\"0\" x2=\"90\" y2=\"0\" style=\"stroke-width:2\" />\n",
              "  <line x1=\"0\" y1=\"120\" x2=\"90\" y2=\"120\" style=\"stroke-width:2\" />\n",
              "\n",
              "  <!-- Vertical lines -->\n",
              "  <line x1=\"0\" y1=\"0\" x2=\"0\" y2=\"120\" style=\"stroke-width:2\" />\n",
              "  <line x1=\"90\" y1=\"0\" x2=\"90\" y2=\"120\" style=\"stroke-width:2\" />\n",
              "\n",
              "  <!-- Colored Rectangle -->\n",
              "  <polygon points=\"0.0,0.0 90.0,0.0 90.0,120.0 0.0,120.0\" style=\"fill:#ECB172A0;stroke-width:0\"/>\n",
              "\n",
              "  <!-- Text -->\n",
              "  <text x=\"45.000000\" y=\"140.000000\" font-size=\"1.0rem\" font-weight=\"100\" text-anchor=\"middle\" >6000</text>\n",
              "  <text x=\"110.000000\" y=\"60.000000\" font-size=\"1.0rem\" font-weight=\"100\" text-anchor=\"middle\" transform=\"rotate(-90,110.000000,60.000000)\">8000</text>\n",
              "</svg>\n",
              "        </td>\n",
              "    </tr>\n",
              "</table>"
            ],
            "text/plain": [
              "dask.array<array, shape=(8000, 6000), dtype=float64, chunksize=(8000, 6000), chunktype=numpy.ndarray>"
            ]
          },
          "execution_count": 65,
          "metadata": {},
          "output_type": "execute_result"
        }
      ],
      "source": [
        "dB = da.from_array(B, chunks=(8000,6000))\n",
        "dB"
      ]
    },
    {
      "cell_type": "code",
      "execution_count": null,
      "metadata": {
        "colab": {
          "base_uri": "https://localhost:8080/"
        },
        "id": "WrG6IMFQc0C8",
        "outputId": "856b2132-bb4c-4777-d6e1-7efef41302eb"
      },
      "outputs": [
        {
          "name": "stdout",
          "output_type": "stream",
          "text": [
            "28.644690807996085\n"
          ]
        }
      ],
      "source": [
        "start = timer()\n",
        "dC = da.matmul(dA, dB).compute()\n",
        "end = timer()\n",
        "print(end-start)"
      ]
    },
    {
      "cell_type": "markdown",
      "metadata": {
        "id": "0Br-UQESmhcY"
      },
      "source": [
        "## Multiplicação de matriz com paralelismo (`numpy` e `dask`)\n",
        "\n",
        "\n"
      ]
    },
    {
      "cell_type": "code",
      "execution_count": null,
      "metadata": {
        "id": "MNGIeBngglpP",
        "outputId": "c1bb34d7-d8d2-4fe8-f7e5-fa3beeedff70"
      },
      "outputs": [
        {
          "name": "stderr",
          "output_type": "stream",
          "text": [
            "/home/schnorr/.local/lib/python3.10/site-packages/distributed/node.py:183: UserWarning: Port 8787 is already in use.\n",
            "Perhaps you already have a cluster running?\n",
            "Hosting the HTTP server on port 45949 instead\n",
            "  warnings.warn(\n"
          ]
        }
      ],
      "source": [
        "import dask.array as da\n",
        "from dask.distributed import Client, LocalCluster\n",
        "cluster = LocalCluster()\n",
        "client = Client(cluster)"
      ]
    },
    {
      "cell_type": "code",
      "execution_count": null,
      "metadata": {
        "colab": {
          "base_uri": "https://localhost:8080/",
          "height": 34
        },
        "id": "HN66gs8tt8RB",
        "outputId": "96d85904-88e7-499f-f1c2-7cfb278a4d3e"
      },
      "outputs": [
        {
          "data": {
            "text/html": [
              "<div>\n",
              "    <div style=\"width: 24px; height: 24px; background-color: #e1e1e1; border: 3px solid #9D9D9D; border-radius: 5px; position: absolute;\"> </div>\n",
              "    <div style=\"margin-left: 48px;\">\n",
              "        <h3 style=\"margin-bottom: 0px;\">Client</h3>\n",
              "        <p style=\"color: #9D9D9D; margin-bottom: 0px;\">Client-5426a6a4-48d9-11ed-9d40-b4b52f18b2b2</p>\n",
              "        <table style=\"width: 100%; text-align: left;\">\n",
              "\n",
              "        <tr>\n",
              "        \n",
              "            <td style=\"text-align: left;\"><strong>Connection method:</strong> Cluster object</td>\n",
              "            <td style=\"text-align: left;\"><strong>Cluster type:</strong> distributed.LocalCluster</td>\n",
              "        \n",
              "        </tr>\n",
              "\n",
              "        \n",
              "            <tr>\n",
              "                <td style=\"text-align: left;\">\n",
              "                    <strong>Dashboard: </strong> <a href=\"http://127.0.0.1:34835/status\" target=\"_blank\">http://127.0.0.1:34835/status</a>\n",
              "                </td>\n",
              "                <td style=\"text-align: left;\"></td>\n",
              "            </tr>\n",
              "        \n",
              "\n",
              "        </table>\n",
              "\n",
              "        \n",
              "            <details>\n",
              "            <summary style=\"margin-bottom: 20px;\"><h3 style=\"display: inline;\">Cluster Info</h3></summary>\n",
              "            <div class=\"jp-RenderedHTMLCommon jp-RenderedHTML jp-mod-trusted jp-OutputArea-output\">\n",
              "    <div style=\"width: 24px; height: 24px; background-color: #e1e1e1; border: 3px solid #9D9D9D; border-radius: 5px; position: absolute;\">\n",
              "    </div>\n",
              "    <div style=\"margin-left: 48px;\">\n",
              "        <h3 style=\"margin-bottom: 0px; margin-top: 0px;\">LocalCluster</h3>\n",
              "        <p style=\"color: #9D9D9D; margin-bottom: 0px;\">eeeac5a4</p>\n",
              "        <table style=\"width: 100%; text-align: left;\">\n",
              "            <tr>\n",
              "                <td style=\"text-align: left;\">\n",
              "                    <strong>Dashboard:</strong> <a href=\"http://127.0.0.1:34835/status\" target=\"_blank\">http://127.0.0.1:34835/status</a>\n",
              "                </td>\n",
              "                <td style=\"text-align: left;\">\n",
              "                    <strong>Workers:</strong> 4\n",
              "                </td>\n",
              "            </tr>\n",
              "            <tr>\n",
              "                <td style=\"text-align: left;\">\n",
              "                    <strong>Total threads:</strong> 4\n",
              "                </td>\n",
              "                <td style=\"text-align: left;\">\n",
              "                    <strong>Total memory:</strong> 31.25 GiB\n",
              "                </td>\n",
              "            </tr>\n",
              "            \n",
              "            <tr>\n",
              "    <td style=\"text-align: left;\"><strong>Status:</strong> running</td>\n",
              "    <td style=\"text-align: left;\"><strong>Using processes:</strong> True</td>\n",
              "</tr>\n",
              "\n",
              "            \n",
              "        </table>\n",
              "\n",
              "        <details>\n",
              "            <summary style=\"margin-bottom: 20px;\">\n",
              "                <h3 style=\"display: inline;\">Scheduler Info</h3>\n",
              "            </summary>\n",
              "\n",
              "            <div style=\"\">\n",
              "    <div>\n",
              "        <div style=\"width: 24px; height: 24px; background-color: #FFF7E5; border: 3px solid #FF6132; border-radius: 5px; position: absolute;\"> </div>\n",
              "        <div style=\"margin-left: 48px;\">\n",
              "            <h3 style=\"margin-bottom: 0px;\">Scheduler</h3>\n",
              "            <p style=\"color: #9D9D9D; margin-bottom: 0px;\">Scheduler-bffddbfa-d5c4-4bd6-8e7f-d0e1c4d58418</p>\n",
              "            <table style=\"width: 100%; text-align: left;\">\n",
              "                <tr>\n",
              "                    <td style=\"text-align: left;\">\n",
              "                        <strong>Comm:</strong> tcp://127.0.0.1:41523\n",
              "                    </td>\n",
              "                    <td style=\"text-align: left;\">\n",
              "                        <strong>Workers:</strong> 4\n",
              "                    </td>\n",
              "                </tr>\n",
              "                <tr>\n",
              "                    <td style=\"text-align: left;\">\n",
              "                        <strong>Dashboard:</strong> <a href=\"http://127.0.0.1:34835/status\" target=\"_blank\">http://127.0.0.1:34835/status</a>\n",
              "                    </td>\n",
              "                    <td style=\"text-align: left;\">\n",
              "                        <strong>Total threads:</strong> 4\n",
              "                    </td>\n",
              "                </tr>\n",
              "                <tr>\n",
              "                    <td style=\"text-align: left;\">\n",
              "                        <strong>Started:</strong> Just now\n",
              "                    </td>\n",
              "                    <td style=\"text-align: left;\">\n",
              "                        <strong>Total memory:</strong> 31.25 GiB\n",
              "                    </td>\n",
              "                </tr>\n",
              "            </table>\n",
              "        </div>\n",
              "    </div>\n",
              "\n",
              "    <details style=\"margin-left: 48px;\">\n",
              "        <summary style=\"margin-bottom: 20px;\">\n",
              "            <h3 style=\"display: inline;\">Workers</h3>\n",
              "        </summary>\n",
              "\n",
              "        \n",
              "        <div style=\"margin-bottom: 20px;\">\n",
              "            <div style=\"width: 24px; height: 24px; background-color: #DBF5FF; border: 3px solid #4CC9FF; border-radius: 5px; position: absolute;\"> </div>\n",
              "            <div style=\"margin-left: 48px;\">\n",
              "            <details>\n",
              "                <summary>\n",
              "                    <h4 style=\"margin-bottom: 0px; display: inline;\">Worker: 0</h4>\n",
              "                </summary>\n",
              "                <table style=\"width: 100%; text-align: left;\">\n",
              "                    <tr>\n",
              "                        <td style=\"text-align: left;\">\n",
              "                            <strong>Comm: </strong> tcp://127.0.0.1:34113\n",
              "                        </td>\n",
              "                        <td style=\"text-align: left;\">\n",
              "                            <strong>Total threads: </strong> 1\n",
              "                        </td>\n",
              "                    </tr>\n",
              "                    <tr>\n",
              "                        <td style=\"text-align: left;\">\n",
              "                            <strong>Dashboard: </strong> <a href=\"http://127.0.0.1:41985/status\" target=\"_blank\">http://127.0.0.1:41985/status</a>\n",
              "                        </td>\n",
              "                        <td style=\"text-align: left;\">\n",
              "                            <strong>Memory: </strong> 7.81 GiB\n",
              "                        </td>\n",
              "                    </tr>\n",
              "                    <tr>\n",
              "                        <td style=\"text-align: left;\">\n",
              "                            <strong>Nanny: </strong> tcp://127.0.0.1:38081\n",
              "                        </td>\n",
              "                        <td style=\"text-align: left;\"></td>\n",
              "                    </tr>\n",
              "                    <tr>\n",
              "                        <td colspan=\"2\" style=\"text-align: left;\">\n",
              "                            <strong>Local directory: </strong> /tmp/dask-worker-space/worker-5fz1crff\n",
              "                        </td>\n",
              "                    </tr>\n",
              "\n",
              "                    \n",
              "\n",
              "                    \n",
              "\n",
              "                </table>\n",
              "            </details>\n",
              "            </div>\n",
              "        </div>\n",
              "        \n",
              "        <div style=\"margin-bottom: 20px;\">\n",
              "            <div style=\"width: 24px; height: 24px; background-color: #DBF5FF; border: 3px solid #4CC9FF; border-radius: 5px; position: absolute;\"> </div>\n",
              "            <div style=\"margin-left: 48px;\">\n",
              "            <details>\n",
              "                <summary>\n",
              "                    <h4 style=\"margin-bottom: 0px; display: inline;\">Worker: 1</h4>\n",
              "                </summary>\n",
              "                <table style=\"width: 100%; text-align: left;\">\n",
              "                    <tr>\n",
              "                        <td style=\"text-align: left;\">\n",
              "                            <strong>Comm: </strong> tcp://127.0.0.1:35533\n",
              "                        </td>\n",
              "                        <td style=\"text-align: left;\">\n",
              "                            <strong>Total threads: </strong> 1\n",
              "                        </td>\n",
              "                    </tr>\n",
              "                    <tr>\n",
              "                        <td style=\"text-align: left;\">\n",
              "                            <strong>Dashboard: </strong> <a href=\"http://127.0.0.1:40495/status\" target=\"_blank\">http://127.0.0.1:40495/status</a>\n",
              "                        </td>\n",
              "                        <td style=\"text-align: left;\">\n",
              "                            <strong>Memory: </strong> 7.81 GiB\n",
              "                        </td>\n",
              "                    </tr>\n",
              "                    <tr>\n",
              "                        <td style=\"text-align: left;\">\n",
              "                            <strong>Nanny: </strong> tcp://127.0.0.1:37913\n",
              "                        </td>\n",
              "                        <td style=\"text-align: left;\"></td>\n",
              "                    </tr>\n",
              "                    <tr>\n",
              "                        <td colspan=\"2\" style=\"text-align: left;\">\n",
              "                            <strong>Local directory: </strong> /tmp/dask-worker-space/worker-nimtxhe3\n",
              "                        </td>\n",
              "                    </tr>\n",
              "\n",
              "                    \n",
              "\n",
              "                    \n",
              "\n",
              "                </table>\n",
              "            </details>\n",
              "            </div>\n",
              "        </div>\n",
              "        \n",
              "        <div style=\"margin-bottom: 20px;\">\n",
              "            <div style=\"width: 24px; height: 24px; background-color: #DBF5FF; border: 3px solid #4CC9FF; border-radius: 5px; position: absolute;\"> </div>\n",
              "            <div style=\"margin-left: 48px;\">\n",
              "            <details>\n",
              "                <summary>\n",
              "                    <h4 style=\"margin-bottom: 0px; display: inline;\">Worker: 2</h4>\n",
              "                </summary>\n",
              "                <table style=\"width: 100%; text-align: left;\">\n",
              "                    <tr>\n",
              "                        <td style=\"text-align: left;\">\n",
              "                            <strong>Comm: </strong> tcp://127.0.0.1:46391\n",
              "                        </td>\n",
              "                        <td style=\"text-align: left;\">\n",
              "                            <strong>Total threads: </strong> 1\n",
              "                        </td>\n",
              "                    </tr>\n",
              "                    <tr>\n",
              "                        <td style=\"text-align: left;\">\n",
              "                            <strong>Dashboard: </strong> <a href=\"http://127.0.0.1:42581/status\" target=\"_blank\">http://127.0.0.1:42581/status</a>\n",
              "                        </td>\n",
              "                        <td style=\"text-align: left;\">\n",
              "                            <strong>Memory: </strong> 7.81 GiB\n",
              "                        </td>\n",
              "                    </tr>\n",
              "                    <tr>\n",
              "                        <td style=\"text-align: left;\">\n",
              "                            <strong>Nanny: </strong> tcp://127.0.0.1:38331\n",
              "                        </td>\n",
              "                        <td style=\"text-align: left;\"></td>\n",
              "                    </tr>\n",
              "                    <tr>\n",
              "                        <td colspan=\"2\" style=\"text-align: left;\">\n",
              "                            <strong>Local directory: </strong> /tmp/dask-worker-space/worker-o_y77q4j\n",
              "                        </td>\n",
              "                    </tr>\n",
              "\n",
              "                    \n",
              "\n",
              "                    \n",
              "\n",
              "                </table>\n",
              "            </details>\n",
              "            </div>\n",
              "        </div>\n",
              "        \n",
              "        <div style=\"margin-bottom: 20px;\">\n",
              "            <div style=\"width: 24px; height: 24px; background-color: #DBF5FF; border: 3px solid #4CC9FF; border-radius: 5px; position: absolute;\"> </div>\n",
              "            <div style=\"margin-left: 48px;\">\n",
              "            <details>\n",
              "                <summary>\n",
              "                    <h4 style=\"margin-bottom: 0px; display: inline;\">Worker: 3</h4>\n",
              "                </summary>\n",
              "                <table style=\"width: 100%; text-align: left;\">\n",
              "                    <tr>\n",
              "                        <td style=\"text-align: left;\">\n",
              "                            <strong>Comm: </strong> tcp://127.0.0.1:34637\n",
              "                        </td>\n",
              "                        <td style=\"text-align: left;\">\n",
              "                            <strong>Total threads: </strong> 1\n",
              "                        </td>\n",
              "                    </tr>\n",
              "                    <tr>\n",
              "                        <td style=\"text-align: left;\">\n",
              "                            <strong>Dashboard: </strong> <a href=\"http://127.0.0.1:46767/status\" target=\"_blank\">http://127.0.0.1:46767/status</a>\n",
              "                        </td>\n",
              "                        <td style=\"text-align: left;\">\n",
              "                            <strong>Memory: </strong> 7.81 GiB\n",
              "                        </td>\n",
              "                    </tr>\n",
              "                    <tr>\n",
              "                        <td style=\"text-align: left;\">\n",
              "                            <strong>Nanny: </strong> tcp://127.0.0.1:37563\n",
              "                        </td>\n",
              "                        <td style=\"text-align: left;\"></td>\n",
              "                    </tr>\n",
              "                    <tr>\n",
              "                        <td colspan=\"2\" style=\"text-align: left;\">\n",
              "                            <strong>Local directory: </strong> /tmp/dask-worker-space/worker-r36vf66j\n",
              "                        </td>\n",
              "                    </tr>\n",
              "\n",
              "                    \n",
              "\n",
              "                    \n",
              "\n",
              "                </table>\n",
              "            </details>\n",
              "            </div>\n",
              "        </div>\n",
              "        \n",
              "\n",
              "    </details>\n",
              "</div>\n",
              "\n",
              "        </details>\n",
              "    </div>\n",
              "</div>\n",
              "            </details>\n",
              "        \n",
              "\n",
              "    </div>\n",
              "</div>"
            ],
            "text/plain": [
              "<Client: 'tcp://127.0.0.1:41523' processes=4 threads=4, memory=31.25 GiB>"
            ]
          },
          "execution_count": 19,
          "metadata": {},
          "output_type": "execute_result"
        }
      ],
      "source": [
        "client"
      ]
    },
    {
      "cell_type": "markdown",
      "source": [
        "Vamos assumir a existência de quatro threads,.e por isso iremos dividir cada matriz em quatro chunks."
      ],
      "metadata": {
        "id": "sg1-RMfOMUYt"
      }
    },
    {
      "cell_type": "code",
      "execution_count": null,
      "metadata": {
        "colab": {
          "base_uri": "https://localhost:8080/",
          "height": 167
        },
        "id": "Jgk9YrOnnXCb",
        "outputId": "4b6f00bb-f33a-4b1b-e05c-36d8c8e0629b"
      },
      "outputs": [
        {
          "data": {
            "text/html": [
              "<table>\n",
              "    <tr>\n",
              "        <td>\n",
              "            <table>\n",
              "                <thead>\n",
              "                    <tr>\n",
              "                        <td> </td>\n",
              "                        <th> Array </th>\n",
              "                        <th> Chunk </th>\n",
              "                    </tr>\n",
              "                </thead>\n",
              "                <tbody>\n",
              "                    \n",
              "                    <tr>\n",
              "                        <th> Bytes </th>\n",
              "                        <td> 366.21 MiB </td>\n",
              "                        <td> 91.55 MiB </td>\n",
              "                    </tr>\n",
              "                    \n",
              "                    <tr>\n",
              "                        <th> Shape </th>\n",
              "                        <td> (6000, 8000) </td>\n",
              "                        <td> (1500, 8000) </td>\n",
              "                    </tr>\n",
              "                    <tr>\n",
              "                        <th> Count </th>\n",
              "                        <td> 1 Graph Layer </td>\n",
              "                        <td> 4 Chunks </td>\n",
              "                    </tr>\n",
              "                    <tr>\n",
              "                    <th> Type </th>\n",
              "                    <td> float64 </td>\n",
              "                    <td> numpy.ndarray </td>\n",
              "                    </tr>\n",
              "                </tbody>\n",
              "            </table>\n",
              "        </td>\n",
              "        <td>\n",
              "        <svg width=\"170\" height=\"140\" style=\"stroke:rgb(0,0,0);stroke-width:1\" >\n",
              "\n",
              "  <!-- Horizontal lines -->\n",
              "  <line x1=\"0\" y1=\"0\" x2=\"120\" y2=\"0\" style=\"stroke-width:2\" />\n",
              "  <line x1=\"0\" y1=\"22\" x2=\"120\" y2=\"22\" />\n",
              "  <line x1=\"0\" y1=\"45\" x2=\"120\" y2=\"45\" />\n",
              "  <line x1=\"0\" y1=\"67\" x2=\"120\" y2=\"67\" />\n",
              "  <line x1=\"0\" y1=\"90\" x2=\"120\" y2=\"90\" style=\"stroke-width:2\" />\n",
              "\n",
              "  <!-- Vertical lines -->\n",
              "  <line x1=\"0\" y1=\"0\" x2=\"0\" y2=\"90\" style=\"stroke-width:2\" />\n",
              "  <line x1=\"120\" y1=\"0\" x2=\"120\" y2=\"90\" style=\"stroke-width:2\" />\n",
              "\n",
              "  <!-- Colored Rectangle -->\n",
              "  <polygon points=\"0.0,0.0 120.0,0.0 120.0,90.0 0.0,90.0\" style=\"fill:#ECB172A0;stroke-width:0\"/>\n",
              "\n",
              "  <!-- Text -->\n",
              "  <text x=\"60.000000\" y=\"110.000000\" font-size=\"1.0rem\" font-weight=\"100\" text-anchor=\"middle\" >8000</text>\n",
              "  <text x=\"140.000000\" y=\"45.000000\" font-size=\"1.0rem\" font-weight=\"100\" text-anchor=\"middle\" transform=\"rotate(-90,140.000000,45.000000)\">6000</text>\n",
              "</svg>\n",
              "        </td>\n",
              "    </tr>\n",
              "</table>"
            ],
            "text/plain": [
              "dask.array<array, shape=(6000, 8000), dtype=float64, chunksize=(1500, 8000), chunktype=numpy.ndarray>"
            ]
          },
          "execution_count": 84,
          "metadata": {},
          "output_type": "execute_result"
        }
      ],
      "source": [
        "dA = da.from_array(A, chunks=(1500, -1))\n",
        "dA"
      ]
    },
    {
      "cell_type": "code",
      "execution_count": null,
      "metadata": {
        "colab": {
          "base_uri": "https://localhost:8080/",
          "height": 197
        },
        "id": "dNO0Dh6UndJj",
        "outputId": "83791567-b4ba-4e26-c6db-fb3cacf1d535"
      },
      "outputs": [
        {
          "data": {
            "text/html": [
              "<table>\n",
              "    <tr>\n",
              "        <td>\n",
              "            <table>\n",
              "                <thead>\n",
              "                    <tr>\n",
              "                        <td> </td>\n",
              "                        <th> Array </th>\n",
              "                        <th> Chunk </th>\n",
              "                    </tr>\n",
              "                </thead>\n",
              "                <tbody>\n",
              "                    \n",
              "                    <tr>\n",
              "                        <th> Bytes </th>\n",
              "                        <td> 366.21 MiB </td>\n",
              "                        <td> 91.55 MiB </td>\n",
              "                    </tr>\n",
              "                    \n",
              "                    <tr>\n",
              "                        <th> Shape </th>\n",
              "                        <td> (8000, 6000) </td>\n",
              "                        <td> (8000, 1500) </td>\n",
              "                    </tr>\n",
              "                    <tr>\n",
              "                        <th> Count </th>\n",
              "                        <td> 1 Graph Layer </td>\n",
              "                        <td> 4 Chunks </td>\n",
              "                    </tr>\n",
              "                    <tr>\n",
              "                    <th> Type </th>\n",
              "                    <td> float64 </td>\n",
              "                    <td> numpy.ndarray </td>\n",
              "                    </tr>\n",
              "                </tbody>\n",
              "            </table>\n",
              "        </td>\n",
              "        <td>\n",
              "        <svg width=\"140\" height=\"170\" style=\"stroke:rgb(0,0,0);stroke-width:1\" >\n",
              "\n",
              "  <!-- Horizontal lines -->\n",
              "  <line x1=\"0\" y1=\"0\" x2=\"90\" y2=\"0\" style=\"stroke-width:2\" />\n",
              "  <line x1=\"0\" y1=\"120\" x2=\"90\" y2=\"120\" style=\"stroke-width:2\" />\n",
              "\n",
              "  <!-- Vertical lines -->\n",
              "  <line x1=\"0\" y1=\"0\" x2=\"0\" y2=\"120\" style=\"stroke-width:2\" />\n",
              "  <line x1=\"22\" y1=\"0\" x2=\"22\" y2=\"120\" />\n",
              "  <line x1=\"45\" y1=\"0\" x2=\"45\" y2=\"120\" />\n",
              "  <line x1=\"67\" y1=\"0\" x2=\"67\" y2=\"120\" />\n",
              "  <line x1=\"90\" y1=\"0\" x2=\"90\" y2=\"120\" style=\"stroke-width:2\" />\n",
              "\n",
              "  <!-- Colored Rectangle -->\n",
              "  <polygon points=\"0.0,0.0 90.0,0.0 90.0,120.0 0.0,120.0\" style=\"fill:#ECB172A0;stroke-width:0\"/>\n",
              "\n",
              "  <!-- Text -->\n",
              "  <text x=\"45.000000\" y=\"140.000000\" font-size=\"1.0rem\" font-weight=\"100\" text-anchor=\"middle\" >6000</text>\n",
              "  <text x=\"110.000000\" y=\"60.000000\" font-size=\"1.0rem\" font-weight=\"100\" text-anchor=\"middle\" transform=\"rotate(-90,110.000000,60.000000)\">8000</text>\n",
              "</svg>\n",
              "        </td>\n",
              "    </tr>\n",
              "</table>"
            ],
            "text/plain": [
              "dask.array<array, shape=(8000, 6000), dtype=float64, chunksize=(8000, 1500), chunktype=numpy.ndarray>"
            ]
          },
          "execution_count": 85,
          "metadata": {},
          "output_type": "execute_result"
        }
      ],
      "source": [
        "dB = da.from_array(B, chunks=(-1, 1500))\n",
        "dB"
      ]
    },
    {
      "cell_type": "code",
      "execution_count": null,
      "metadata": {
        "id": "ZsH0TOkvy344",
        "outputId": "29c8af65-912f-4561-f844-85bc85f1fe89"
      },
      "outputs": [
        {
          "name": "stdout",
          "output_type": "stream",
          "text": [
            "0.005587837003986351\n"
          ]
        },
        {
          "name": "stderr",
          "output_type": "stream",
          "text": [
            "/home/schnorr/.local/lib/python3.10/site-packages/dask/array/routines.py:446: PerformanceWarning: Increasing number of chunks by factor of 24\n",
            "  out = blockwise(\n"
          ]
        }
      ],
      "source": [
        "start = timer()\n",
        "dC = da.matmul(dA, dB)\n",
        "end = timer()\n",
        "print(end-start)"
      ]
    },
    {
      "cell_type": "code",
      "execution_count": null,
      "metadata": {
        "colab": {
          "base_uri": "https://localhost:8080/"
        },
        "id": "T0NduSDUgo01",
        "outputId": "a311bd33-88de-43d0-99f3-3f1d2046a9e2"
      },
      "outputs": [
        {
          "name": "stdout",
          "output_type": "stream",
          "text": [
            "27.441380631993525\n"
          ]
        }
      ],
      "source": [
        "start = timer()\n",
        "dC.compute()\n",
        "end = timer()\n",
        "print(end-start)"
      ]
    },
    {
      "cell_type": "markdown",
      "metadata": {
        "id": "4LhxJHiMARnm"
      },
      "source": [
        "## Calculando Aceleração e Eficiência\n",
        "\n",
        "Vamos agora dimensionar o cluster local para que a quantidade de processos trabalhadores mude de 1 (execução que pode ser considerada sequencial) até uma determinada quantidade de trabalhadores. Vamos coletar os tempos de execução de cada execução e calcular a aceleração e eficiência. Os dados serão salvos em um arquivo CSV `experimento.csv` para que possamos analisá-los posteriormente."
      ]
    },
    {
      "cell_type": "code",
      "execution_count": null,
      "metadata": {
        "id": "njzUKOJHCJZA"
      },
      "outputs": [],
      "source": [
        "import csv\n",
        "csv_header = [\"p\", \"time\"]\n",
        "with open('experimento.csv', 'w') as file:\n",
        "  writer = csv.writer(file)\n",
        "  writer.writerow([\"p\", \"time\"]) # o cabeçalho do CSV\n",
        "  for p in range(1, 9):\n",
        "    # Vamos configurar o tamanho do cluster\n",
        "    cluster.scale(p)\n",
        "    # Vamos executar o experimento\n",
        "    start = timer()\n",
        "    dC.compute()\n",
        "    end = timer()\n",
        "    # Salvar no arquivo CSV a tupla\n",
        "    writer.writerow([p, end - start])\n",
        "\n"
      ]
    },
    {
      "cell_type": "markdown",
      "metadata": {
        "id": "Oe9p41IgIMZ1"
      },
      "source": [
        "Vamos ver o conteúdo do arquivo com as medidas de desempenho"
      ]
    },
    {
      "cell_type": "code",
      "execution_count": null,
      "metadata": {
        "colab": {
          "base_uri": "https://localhost:8080/"
        },
        "id": "h8_23ILMIOwx",
        "outputId": "ccf55440-7bd7-4610-e31e-c662d189788d"
      },
      "outputs": [
        {
          "name": "stdout",
          "output_type": "stream",
          "text": [
            "\r\n",
            "\r\n",
            "\r\n",
            "\r\n",
            "\r\n",
            "\r\n",
            "\r\n",
            "\r\n",
            "\r\n"
          ]
        }
      ],
      "source": [
        "!cat experimento.csv"
      ]
    },
    {
      "cell_type": "code",
      "execution_count": null,
      "metadata": {
        "id": "j72WhYffMO49"
      },
      "outputs": [],
      "source": [
        "!pip install pandas"
      ]
    },
    {
      "cell_type": "code",
      "execution_count": null,
      "metadata": {
        "colab": {
          "base_uri": "https://localhost:8080/"
        },
        "id": "zAvOfj2yC6s4",
        "outputId": "db58f013-fe84-44cc-c622-c5fd20a0fe70"
      },
      "outputs": [
        {
          "name": "stdout",
          "output_type": "stream",
          "text": [
            "   p       time\n",
            "0  1  26.186983\n",
            "1  2  14.559150\n",
            "2  3  12.182005\n",
            "3  4  11.434795\n",
            "4  5  12.020283\n",
            "5  6  11.634496\n",
            "6  7  12.477023\n",
            "7  8  12.902239\n"
          ]
        }
      ],
      "source": [
        "import pandas as pd\n",
        "df = pd.read_csv('experimento.csv')\n",
        "print(df.to_string()) "
      ]
    },
    {
      "cell_type": "code",
      "execution_count": null,
      "metadata": {
        "colab": {
          "base_uri": "https://localhost:8080/",
          "height": 112
        },
        "id": "AvuEymxzDPv8",
        "outputId": "ca391cc9-fc1c-4408-bd92-e7378b1df08d"
      },
      "outputs": [
        {
          "data": {
            "text/html": [
              "<div>\n",
              "<style scoped>\n",
              "    .dataframe tbody tr th:only-of-type {\n",
              "        vertical-align: middle;\n",
              "    }\n",
              "\n",
              "    .dataframe tbody tr th {\n",
              "        vertical-align: top;\n",
              "    }\n",
              "\n",
              "    .dataframe thead th {\n",
              "        text-align: right;\n",
              "    }\n",
              "</style>\n",
              "<table border=\"1\" class=\"dataframe\">\n",
              "  <thead>\n",
              "    <tr style=\"text-align: right;\">\n",
              "      <th></th>\n",
              "      <th>p</th>\n",
              "      <th>time</th>\n",
              "      <th>seq</th>\n",
              "      <th>speedup</th>\n",
              "      <th>eficiencia</th>\n",
              "    </tr>\n",
              "  </thead>\n",
              "  <tbody>\n",
              "    <tr>\n",
              "      <th>0</th>\n",
              "      <td>1</td>\n",
              "      <td>26.186983</td>\n",
              "      <td>26.186983</td>\n",
              "      <td>1.000000</td>\n",
              "      <td>1.000000</td>\n",
              "    </tr>\n",
              "    <tr>\n",
              "      <th>1</th>\n",
              "      <td>2</td>\n",
              "      <td>14.559150</td>\n",
              "      <td>26.186983</td>\n",
              "      <td>1.798661</td>\n",
              "      <td>0.899331</td>\n",
              "    </tr>\n",
              "    <tr>\n",
              "      <th>2</th>\n",
              "      <td>3</td>\n",
              "      <td>12.182005</td>\n",
              "      <td>26.186983</td>\n",
              "      <td>2.149645</td>\n",
              "      <td>0.716548</td>\n",
              "    </tr>\n",
              "    <tr>\n",
              "      <th>3</th>\n",
              "      <td>4</td>\n",
              "      <td>11.434795</td>\n",
              "      <td>26.186983</td>\n",
              "      <td>2.290114</td>\n",
              "      <td>0.572528</td>\n",
              "    </tr>\n",
              "    <tr>\n",
              "      <th>4</th>\n",
              "      <td>5</td>\n",
              "      <td>12.020283</td>\n",
              "      <td>26.186983</td>\n",
              "      <td>2.178566</td>\n",
              "      <td>0.435713</td>\n",
              "    </tr>\n",
              "    <tr>\n",
              "      <th>5</th>\n",
              "      <td>6</td>\n",
              "      <td>11.634496</td>\n",
              "      <td>26.186983</td>\n",
              "      <td>2.250805</td>\n",
              "      <td>0.375134</td>\n",
              "    </tr>\n",
              "    <tr>\n",
              "      <th>6</th>\n",
              "      <td>7</td>\n",
              "      <td>12.477023</td>\n",
              "      <td>26.186983</td>\n",
              "      <td>2.098817</td>\n",
              "      <td>0.299831</td>\n",
              "    </tr>\n",
              "    <tr>\n",
              "      <th>7</th>\n",
              "      <td>8</td>\n",
              "      <td>12.902239</td>\n",
              "      <td>26.186983</td>\n",
              "      <td>2.029646</td>\n",
              "      <td>0.253706</td>\n",
              "    </tr>\n",
              "  </tbody>\n",
              "</table>\n",
              "</div>"
            ],
            "text/plain": [
              "   p       time        seq   speedup  eficiencia\n",
              "0  1  26.186983  26.186983  1.000000    1.000000\n",
              "1  2  14.559150  26.186983  1.798661    0.899331\n",
              "2  3  12.182005  26.186983  2.149645    0.716548\n",
              "3  4  11.434795  26.186983  2.290114    0.572528\n",
              "4  5  12.020283  26.186983  2.178566    0.435713\n",
              "5  6  11.634496  26.186983  2.250805    0.375134\n",
              "6  7  12.477023  26.186983  2.098817    0.299831\n",
              "7  8  12.902239  26.186983  2.029646    0.253706"
            ]
          },
          "execution_count": 82,
          "metadata": {},
          "output_type": "execute_result"
        }
      ],
      "source": [
        "tseq = df.query('p == 1')['time'].iloc[0]\n",
        "tseq\n",
        "df = df.assign(seq = tseq)\n",
        "df = df.assign(speedup = df['seq']/df['time'])\n",
        "df = df.assign(eficiencia = df['speedup']/df['p'])\n",
        "df"
      ]
    },
    {
      "cell_type": "code",
      "execution_count": null,
      "metadata": {
        "colab": {
          "base_uri": "https://localhost:8080/",
          "height": 269
        },
        "id": "fWJNhmLPGsbS",
        "outputId": "9fde2efc-4a50-4dcf-eb8c-59f15749e0f4"
      },
      "outputs": [
        {
          "data": {
            "image/png": "[encoded data removed]",
            "text/plain": [
              "<Figure size 640x480 with 1 Axes>"
            ]
          },
          "metadata": {},
          "output_type": "display_data"
        }
      ],
      "source": [
        "import matplotlib.pyplot as plt\n",
        "plt.scatter(df['p'], df['speedup'])\n",
        "plt.plot(df['p'], df['speedup'])\n",
        "#plt.axvline(x=0, c=\"black\", label=\"x=0\")\n",
        "#plt.axhline(y=0, c=\"black\", label=\"y=0\")\n",
        "#plt.xlim([0, 10])\n",
        "#plt.ylim([0, 10])\n",
        "plt.axis('equal')\n",
        "plt.ylabel('speedup')\n",
        "plt.xlabel('p')\n",
        "plt.show()\n"
      ]
    },
    {
      "cell_type": "markdown",
      "metadata": {
        "id": "7CiBoL4NLiC3"
      },
      "source": [
        "A interpretação do gráfico nos permite delinear conclusões interessantes sobre a paralelização tanto do ponto de vista do software quanto do hardware. Outros elementos que podem influenciar o desempenho incluem o tamanho e a quantidade de chunks."
      ]
    }
  ],
  "metadata": {
    "colab": {
      "collapsed_sections": [
        "LWqZBCLzWB9f"
      ],
      "provenance": []
    },
    "kernelspec": {
      "display_name": "Python 3 (ipykernel)",
      "language": "python",
      "name": "python3"
    },
    "language_info": {
      "codemirror_mode": {
        "name": "ipython",
        "version": 3
      },
      "file_extension": ".py",
      "mimetype": "text/x-python",
      "name": "python",
      "nbconvert_exporter": "python",
      "pygments_lexer": "ipython3",
      "version": "3.10.7"
    }
  },
  "nbformat": 4,
  "nbformat_minor": 0
}