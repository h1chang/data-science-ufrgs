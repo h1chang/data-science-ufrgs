{
 "cells": [
  {
   "cell_type": "markdown",
   "id": "2d67b1ad",
   "metadata": {
    "id": "2d67b1ad"
   },
   "source": [
    "# Multiplicação de Matrizes (MM), no PCAD\n",
    "\n",
    "## Instanciação da infraestrutura\n",
    "\n",
    "O professor fará a demonstração de um escalonador e trabalhadores no PCAD (https://gppd-hpc.inf.ufrgs.br/), utilizando pelo menos duas máquinas (poderemos eventualmente usar mais máquinas em função da disponibilidade dos nós computacionais):\n",
    "- `cei1`: o escalonador juntamente com trabalhadores na máquinas\n",
    "- `cei2`: somente trabalhadores\n",
    "\n",
    "O professor vai demonstrar a instanciação manual dessa infraestrutura de computação utilizando conectando diretamente nas máquinas via `ssh`, instanciando primeiro o escalonador com `dask-scheduler`, obtendo o seu *endereço:porta* e depois instanciando tantos quantos `dask-worker` forem necessários, informando para cada um destes o endereço do escalonador.\n",
    "\n",
    "## Verificação da disponibilidade da infraestrutura\n",
    "\n",
    "Após a instanciação da infraestrutura, poderemos então acessar o endereço do `dashboard` do dask onde constarão dados da infraestrutura que foi instanciada.\n",
    "- http://gppd-hpc.inf.ufrgs.br:8787/status"
   ]
  },
  {
   "cell_type": "markdown",
   "id": "d02ceb53",
   "metadata": {
    "id": "d02ceb53"
   },
   "source": [
    "## Experimento de MM\n",
    "\n",
    "No código abaixo vamos conectar nosso cliente local no endereço do escalonador.\n",
    "\n",
    "Vamos investigar a percepção do cliente da infraestrutura, através da saída."
   ]
  },
  {
   "cell_type": "code",
   "execution_count": null,
   "id": "faa0e5de",
   "metadata": {
    "id": "faa0e5de"
   },
   "outputs": [],
   "source": [
    "from dask.distributed import Client\n",
    "client = Client(\"tcp://gppd-hpc.inf.ufrgs.br:8786\")\n",
    "client"
   ]
  },
  {
   "cell_type": "markdown",
   "id": "55ca8ffe",
   "metadata": {
    "id": "55ca8ffe"
   },
   "source": [
    "Vamos agora instanciar as duas matrizes que queremos multiplicar, e visualizá-las."
   ]
  },
  {
   "cell_type": "code",
   "execution_count": null,
   "id": "bb23dd16",
   "metadata": {
    "id": "bb23dd16"
   },
   "outputs": [],
   "source": [
    "import dask.array as da\n",
    "A = da.random.random((12000,1200), chunks=(1500, -1))\n",
    "A"
   ]
  },
  {
   "cell_type": "code",
   "execution_count": null,
   "id": "9fb5ecbd",
   "metadata": {
    "id": "9fb5ecbd"
   },
   "outputs": [],
   "source": [
    "B = da.random.random((1200,12000), chunks=(-1, 1500))\n",
    "B"
   ]
  },
  {
   "cell_type": "markdown",
   "id": "cba04705",
   "metadata": {
    "id": "cba04705"
   },
   "source": [
    "Vamos agora criar o grafo de tarefas da MM. Alguns questionamentos:\n",
    "- Qual a capacidade de paralelismo observando o grafo?\n",
    "- Existem dependências globais?"
   ]
  },
  {
   "cell_type": "code",
   "execution_count": null,
   "id": "670f603b",
   "metadata": {
    "id": "670f603b"
   },
   "outputs": [],
   "source": [
    "from numpy import save\n",
    "C = da.matmul(A, B).mean()\n",
    "C.dask"
   ]
  },
  {
   "cell_type": "markdown",
   "id": "3881340d",
   "metadata": {
    "id": "3881340d"
   },
   "source": [
    "Agora vamos solicitar o cálculo com uma chamada para `compute()`."
   ]
  },
  {
   "cell_type": "code",
   "execution_count": null,
   "id": "5380b5bd",
   "metadata": {
    "id": "5380b5bd"
   },
   "outputs": [],
   "source": [
    "from timeit import default_timer as timer\n",
    "from dask.distributed import performance_report\n",
    "with performance_report(filename=\"dask-report.html\"):\n",
    "  start = timer()\n",
    "  Z = C.compute()\n",
    "  end = timer()\n",
    "  print(end - start)"
   ]
  },
  {
   "cell_type": "code",
   "execution_count": null,
   "id": "6c0a7f64",
   "metadata": {
    "id": "6c0a7f64"
   },
   "outputs": [],
   "source": []
  },
  {
   "cell_type": "code",
   "execution_count": null,
   "id": "4fc23729",
   "metadata": {
    "id": "4fc23729"
   },
   "outputs": [],
   "source": []
  }
 ],
 "metadata": {
  "colab": {
   "provenance": [
    {
     "file_id": "1kEgkpSDWJqmG2yO3z3_R9fzJ7RaCVSbU",
     "timestamp": 1665748798292
    }
   ]
  },
  "kernelspec": {
   "display_name": "Python 3 (ipykernel)",
   "language": "python",
   "name": "python3"
  },
  "language_info": {
   "codemirror_mode": {
    "name": "ipython",
    "version": 3
   },
   "file_extension": ".py",
   "mimetype": "text/x-python",
   "name": "python",
   "nbconvert_exporter": "python",
   "pygments_lexer": "ipython3",
   "version": "3.10.6"
  }
 },
 "nbformat": 4,
 "nbformat_minor": 5
}
