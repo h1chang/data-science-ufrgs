{
 "cells": [
  {
   "cell_type": "markdown",
   "metadata": {
    "id": "bFxEhf3DW_wq"
   },
   "source": [
    "# dask.delayed - paralelização de código python\n",
    "\n",
    "Vamos explorar a prática de programação paralela via dask com um exemplo simples de código Python. No âmbito de dask, precisamos que as funções sejam avalidas de maneira preguiçosa (/lazy evaluation/). Para isso, empregaremos o operador `@delayed`.\n",
    "\n",
    "**Documentação adicional**\n",
    "\n",
    "* [Delayed documentação](https://docs.dask.org/en/latest/delayed.html)\n",
    "* [Delayed tutorial rápido](https://www.youtube.com/watch?v=SHqFmynRxVU)\n",
    "* [Delayed API](https://docs.dask.org/en/latest/delayed-api.html)\n",
    "* [Delayed exemplos](https://examples.dask.org/delayed.html)\n",
    "* [Delayed melhores práticas](https://docs.dask.org/en/latest/delayed-best-practices.html)"
   ]
  },
  {
   "cell_type": "markdown",
   "metadata": {
    "id": "12TAZOupW_wv"
   },
   "source": [
    "Veremos mais adiante como criar um escalonador que distribuirá as tarefas no cluster de máquinas. Como vimos, existem várias formas de fazer isso. Nesta prática, vamos apenas instanciar um cliente com trabalhadores locais."
   ]
  },
  {
   "cell_type": "code",
   "execution_count": 1,
   "metadata": {},
   "outputs": [
    {
     "name": "stdout",
     "output_type": "stream",
     "text": [
      "Requirement already satisfied: graphviz in /home/s113650157/Dev/miniconda3/envs/cd009/lib/python3.10/site-packages (0.20.1)\r\n"
     ]
    }
   ],
   "source": [
    "!pip install graphviz\n",
    "# !pip install ipycytoscape"
   ]
  },
  {
   "cell_type": "code",
   "execution_count": 2,
   "metadata": {
    "id": "tdww6iSlW_wv"
   },
   "outputs": [],
   "source": [
    "from dask.distributed import Client\n",
    "client = Client(n_workers=4)"
   ]
  },
  {
   "cell_type": "markdown",
   "metadata": {
    "id": "Q3A3O3LaW_wy"
   },
   "source": [
    "## Um workflow típico de análise de dados\n",
    "\n",
    "Um workflow de análise de dados registrado em arquivos topicamente tem a forma abaixo. Esse tipo de código pode beneficiar da avaliação preguiçosa com a diretiva `@dask.delayed`. O exemplo seguinte ilustra a leitura - transformação - escrita:\n",
    "\n",
    "```python\n",
    "import dask\n",
    "    \n",
    "@dask.delayed\n",
    "def process_file(filename):\n",
    "    data = read_a_file(filename)\n",
    "    data = do_a_transformation(data)\n",
    "    destination = f\"results/{filename}\"\n",
    "    write_out_data(data, destination)\n",
    "    return destination\n",
    "\n",
    "results = []\n",
    "for filename in filenames:\n",
    "    results.append(process_file(filename))\n",
    "    \n",
    "dask.compute(results)\n",
    "```"
   ]
  },
  {
   "cell_type": "markdown",
   "metadata": {
    "id": "DvBah2CEW_w1"
   },
   "source": [
    "## Início da prática\n",
    "\n",
    "Vamos definir duas funções, `inc` a `add`, que tem uma funcionalidade de incremento e adição mas que ambas dormem (através da chamada `sleep`) por um segundo cada vez que uma é chamada. Podemos imaginar que a chamada à `sleep` pode representar um tempo de cálculo."
   ]
  },
  {
   "cell_type": "code",
   "execution_count": 3,
   "metadata": {
    "id": "TgbEZVliW_w2"
   },
   "outputs": [],
   "source": [
    "from time import sleep\n",
    "\n",
    "def inc(x):\n",
    "    sleep(1)\n",
    "    return x + 1\n",
    "\n",
    "def add(x, y):\n",
    "    sleep(1)\n",
    "    return x + y"
   ]
  },
  {
   "cell_type": "markdown",
   "metadata": {
    "id": "2RUe8jWjW_w3"
   },
   "source": [
    "Vamos medir o tempo de execução deste código sequencial usando a anotação `%%time`, um incremento fornecido pelo Jupyter Notebook."
   ]
  },
  {
   "cell_type": "code",
   "execution_count": 4,
   "metadata": {
    "id": "_VKSANnGW_w4"
   },
   "outputs": [
    {
     "name": "stdout",
     "output_type": "stream",
     "text": [
      "CPU times: user 285 ms, sys: 25.2 ms, total: 310 ms\n",
      "Wall time: 3 s\n"
     ]
    }
   ],
   "source": [
    "%%time\n",
    "# Este código leva três segundos para ser executado\n",
    "# por que nós chamamos as funções de maneira sequencial.\n",
    "\n",
    "x = inc(1)\n",
    "y = inc(2)\n",
    "z = add(x, y)"
   ]
  },
  {
   "cell_type": "markdown",
   "metadata": {
    "id": "sYrBRGCVW_w5"
   },
   "source": [
    "### Paralelização com o decorador `dask.delayed`\n",
    "\n",
    "As chamadas ao incremento *poderiam* ser invocadas em parapelo, porque elas são totalmente independentes entre si.\n",
    "\n",
    "Vamos transformar as duas funções `inc` e `add` em funções preguiçosas usando o decorador `dask.delayed`. Quando nós chamarmos a versão *delayed* com passagem de argumentos, exatamente como antes, a função original não é de fato executada. É por causa disso que a execução do bloco abaixo termina quase de maneira instantânea. Ao invés do resultado, obtemos um *objeto atrasado*, que tem em si as funções que devem ser chamadas e os seus argumentos."
   ]
  },
  {
   "cell_type": "code",
   "execution_count": 5,
   "metadata": {
    "id": "JAstboWSW_w6"
   },
   "outputs": [],
   "source": [
    "import dask\n",
    "\n",
    "@dask.delayed\n",
    "def inc(x):\n",
    "    sleep(1)\n",
    "    return x + 1\n",
    "\n",
    "@dask.delayed\n",
    "def add(x, y):\n",
    "    sleep(1)\n",
    "    return x + y"
   ]
  },
  {
   "cell_type": "code",
   "execution_count": 19,
   "metadata": {
    "id": "bbD4Sxl0W_w8"
   },
   "outputs": [
    {
     "name": "stdout",
     "output_type": "stream",
     "text": [
      "CPU times: user 1.16 ms, sys: 311 µs, total: 1.47 ms\n",
      "Wall time: 942 µs\n"
     ]
    }
   ],
   "source": [
    "%%time\n",
    "# Este código executa quase de maneira instantânea\n",
    "# A única coisa que ele faz é construir o *grafo de tarefas*\n",
    "\n",
    "x = inc(1)\n",
    "y = inc(2)\n",
    "z = add(x, y)"
   ]
  },
  {
   "cell_type": "markdown",
   "metadata": {
    "id": "S9buSannW_w8"
   },
   "source": [
    "Como podemos ver, executou em 6.25 microsegundos (ms), uma vez nada foi efetivamente executado.\n",
    "\n",
    "Para efetivamente obter o resultado, chamamos o método `compute` no objeto `z` retornado. Podemos perceber que isso executa mais rápido que o código original."
   ]
  },
  {
   "cell_type": "code",
   "execution_count": 20,
   "metadata": {
    "id": "zZ32-oPxW_w9"
   },
   "outputs": [
    {
     "name": "stdout",
     "output_type": "stream",
     "text": [
      "CPU times: user 7.03 ms, sys: 3.61 ms, total: 10.6 ms\n",
      "Wall time: 2.01 s\n"
     ]
    },
    {
     "data": {
      "text/plain": [
       "5"
      ]
     },
     "execution_count": 20,
     "metadata": {},
     "output_type": "execute_result"
    }
   ],
   "source": [
    "%%time\n",
    "# Isto de fato executa o cálculo solicitado\n",
    "# utilizando as threads locais (criadas no cliente)\n",
    "\n",
    "z.compute()"
   ]
  },
  {
   "cell_type": "markdown",
   "metadata": {
    "id": "G9AdJGdKW_w-"
   },
   "source": [
    "## O que aconteceu?\n",
    "\n",
    "O objeto `z`  é um objeto `delayed` preguiçoso. Este objeto guarda em si todo o necessário para calcular o resultado final, incluindo referências para todas as funções necessárias para o cálculo, como as entradas e as relações entre as funções. Nós podemos avaliar o resultado com o método `.compute()` como fizemos acima, mas nós podemos também visualizar o **grafo de tarefas** para o valor que será criado com o método `visualize()`."
   ]
  },
  {
   "cell_type": "code",
   "execution_count": 8,
   "metadata": {
    "id": "84k9Rqa2W_w_"
   },
   "outputs": [
    {
     "data": {
      "text/plain": [
       "Delayed('add-959ce7e3-47c8-4be6-90dd-94332df93dd7')"
      ]
     },
     "execution_count": 8,
     "metadata": {},
     "output_type": "execute_result"
    }
   ],
   "source": [
    "z"
   ]
  },
  {
   "cell_type": "code",
   "execution_count": 9,
   "metadata": {
    "id": "fBj8ukZvW_xA"
   },
   "outputs": [
    {
     "data": {
      "image/png": "[encoded data removed]",
      "text/plain": [
       "<IPython.core.display.Image object>"
      ]
     },
     "execution_count": 9,
     "metadata": {},
     "output_type": "execute_result"
    }
   ],
   "source": [
    "# Look at the task graph for `z`\n",
    "z.visualize()"
   ]
  },
  {
   "cell_type": "markdown",
   "metadata": {
    "id": "wRy5EVPKW_xB"
   },
   "source": [
    "Percebemos que nomes das funções como antes (na forma de círculos nomeados), e o fluxo de dados lógico das entradas/saídas (na forma de retângulos sem nomes). Vemos que a saída das duas instâncias de `inc` são a entrada para a função `add`, como havia estava no código que escrevemos para gerar `z`."
   ]
  },
  {
   "cell_type": "markdown",
   "metadata": {
    "id": "8MbM4dsbW_xB"
   },
   "source": [
    "### Algumas questões para discussão\n",
    "\n",
    "- Por que reduzimos o tempo de 3s para 2s?\n",
    "- Por que não conseguimos reduzir para 1s?\n",
    "- Sem o `sleep(1)`, seria ainda possível melhorar o tempo de execução?\n",
    "- E se precisássemos acessar os resultados intermediários (`x` e `y`)?"
   ]
  },
  {
   "cell_type": "markdown",
   "metadata": {
    "id": "RM8iCw8LW_xB"
   },
   "source": [
    "## Paralelização de Laços for\n",
    "\n",
    "Laços `for` contém partes do código mais comuns que podemos paralelizar, especialmente se as iterações são **independentes entre si**. Podemos usar a função `dask.delayed` diretamente na chamada de uma função para torná-la *lazy*, passando como primeiro parâmetro a função a ser transformada em \"preguiçosa\", e os  demais parâmetros representando as entradas da função.\n",
    "\n",
    "Vamos testar diferentes formas de paralelização no laço for abaixo:\n",
    "1. Adicionando `@dask.delayed` na definição da função `inc`\n",
    "2. Na chamada da função `inc`, torná-la *lazy*\n",
    "3. Fazer com em 2, adicionalmente na chamada da função `sum`, torná-la *lazy*"
   ]
  },
  {
   "cell_type": "code",
   "execution_count": 10,
   "metadata": {
    "id": "_SakLbTpW_xC"
   },
   "outputs": [],
   "source": [
    "data = [1, 2, 3, 4, 5, 6, 7, 8]"
   ]
  },
  {
   "cell_type": "code",
   "execution_count": 11,
   "metadata": {
    "id": "mO17gtIEW_xD"
   },
   "outputs": [
    {
     "name": "stdout",
     "output_type": "stream",
     "text": [
      "CPU times: user 837 ms, sys: 138 ms, total: 976 ms\n",
      "Wall time: 8.01 s\n"
     ]
    },
    {
     "data": {
      "text/plain": [
       "44"
      ]
     },
     "execution_count": 11,
     "metadata": {},
     "output_type": "execute_result"
    }
   ],
   "source": [
    "%%time\n",
    "\n",
    "def inc(x):\n",
    "    sleep(1)\n",
    "    return x + 1\n",
    "\n",
    "# Vamos paralelizar o laço for de diferentes formas e ver o resultado no grafo\n",
    "results = []\n",
    "for x in data:\n",
    "    y = inc(x)\n",
    "    results.append(y)\n",
    "\n",
    "total = sum(results)\n",
    "total"
   ]
  },
  {
   "cell_type": "markdown",
   "metadata": {
    "id": "vsfmv0LEW_xF"
   },
   "source": [
    "Vamos agora usar a definição de `inc` com `@dask.delayed`, fazendo a soma das respostas de duas chamadas subsequentes à `inc` (como ilustrado no código abaixo). Discutimos o que acontece assumindo que `inc` é uma função preguiçosa. Observamos como o operador `+` é transformando também em uma operação avaliada de maneira preguiçosa."
   ]
  },
  {
   "cell_type": "code",
   "execution_count": 12,
   "metadata": {
    "id": "JEvZhHxOW_xG"
   },
   "outputs": [
    {
     "name": "stdout",
     "output_type": "stream",
     "text": [
      "CPU times: user 5.74 ms, sys: 0 ns, total: 5.74 ms\n",
      "Wall time: 30.4 ms\n"
     ]
    },
    {
     "data": {
      "image/png": "[encoded data removed]",
      "text/plain": [
       "<IPython.core.display.Image object>"
      ]
     },
     "execution_count": 12,
     "metadata": {},
     "output_type": "execute_result"
    }
   ],
   "source": [
    "%%time\n",
    "@dask.delayed\n",
    "def inc(x):\n",
    "    sleep(1)\n",
    "    return x + 1\n",
    "\n",
    "soma = inc(1) + inc(2)\n",
    "soma.visualize()"
   ]
  },
  {
   "cell_type": "markdown",
   "metadata": {
    "id": "mmB8C9diW_xH"
   },
   "source": [
    "## Paralelização de laços `for` com controle de fluxo\n",
    "\n",
    "Frequentemente queremos atrasar somente *algumas* funções, rodando outras de maneira imediata. Isto é especialmente importante quando algumas funções são rápidas e nos ajudam a determinar quais outras funções lentas devemos chamar. Esta decisão, de atrasar ou não atrasar, é usualmente onde nós precisamos ser cuidadosos ao usar `dask.delayed`.\n",
    "\n",
    "No exemplo abaixo, nós iteramos por uma lista de elementos registrados em `data`. Se o valor do elemento é par, então nós chamamos `inc`. Se for ímpar, nós chamamos `double`. Esta decisão se o elemento é par ou ímpar esta implementado na função `is_even`, e sua resposta usamos para decidir se chamamos `inc` ou `double`. A decisão deve ser feita imediatamente (de maneira *não preguiçosa*) de maneira que podemos completar a construção do grafo de tarefas completo para todo o laço for."
   ]
  },
  {
   "cell_type": "code",
   "execution_count": 13,
   "metadata": {
    "id": "v5Wpz0hdW_xI"
   },
   "outputs": [],
   "source": [
    "def double(x):\n",
    "    sleep(1)\n",
    "    return 2 * x\n",
    "\n",
    "def inc(x):\n",
    "    sleep(1)\n",
    "    return x + 1\n",
    "\n",
    "def is_even(x):\n",
    "    return not x % 2\n",
    "\n",
    "data = [1, 2, 3, 4, 5, 6, 7, 8, 9, 10]"
   ]
  },
  {
   "cell_type": "code",
   "execution_count": 14,
   "metadata": {
    "id": "VIIHe4i7W_xK"
   },
   "outputs": [
    {
     "name": "stdout",
     "output_type": "stream",
     "text": [
      "90\n",
      "CPU times: user 981 ms, sys: 141 ms, total: 1.12 s\n",
      "Wall time: 10 s\n"
     ]
    }
   ],
   "source": [
    "%%time\n",
    "# Código sequencial\n",
    "\n",
    "results = []\n",
    "for x in data:\n",
    "    if is_even(x):\n",
    "        y = double(x)\n",
    "    else:\n",
    "        y = inc(x)\n",
    "    results.append(y)\n",
    "\n",
    "total = sum(results)\n",
    "print(total)"
   ]
  },
  {
   "cell_type": "code",
   "execution_count": 15,
   "metadata": {
    "id": "8KL8nuUwW_xL",
    "jupyter": {
     "source_hidden": true
    },
    "tags": []
   },
   "outputs": [],
   "source": [
    "@dask.delayed\n",
    "def double(x):\n",
    "    sleep(1)\n",
    "    return 2 * x\n",
    "\n",
    "@dask.delayed\n",
    "def inc(x):\n",
    "    sleep(1)\n",
    "    return x + 1\n",
    "\n",
    "results = []\n",
    "for x in data:\n",
    "    if is_even(x):  # even\n",
    "        y = double(x)\n",
    "    else:  # odd\n",
    "        y = inc(x)\n",
    "    results.append(y)\n",
    "\n",
    "total = dask.delayed(sum)(results)"
   ]
  },
  {
   "cell_type": "code",
   "execution_count": 16,
   "metadata": {
    "id": "PcWztGHeW_xM"
   },
   "outputs": [
    {
     "name": "stdout",
     "output_type": "stream",
     "text": [
      "CPU times: user 246 ms, sys: 42.7 ms, total: 288 ms\n",
      "Wall time: 2.08 s\n"
     ]
    },
    {
     "data": {
      "text/plain": [
       "90"
      ]
     },
     "execution_count": 16,
     "metadata": {},
     "output_type": "execute_result"
    }
   ],
   "source": [
    "%time total.compute()"
   ]
  },
  {
   "cell_type": "code",
   "execution_count": 17,
   "metadata": {
    "id": "3xUdXsiFW_xM"
   },
   "outputs": [
    {
     "data": {
      "image/png": "[encoded data removed]",
      "text/plain": [
       "<IPython.core.display.Image object>"
      ]
     },
     "execution_count": 17,
     "metadata": {},
     "output_type": "execute_result"
    }
   ],
   "source": [
    "total.visualize()"
   ]
  },
  {
   "cell_type": "markdown",
   "metadata": {
    "id": "iryvj9ktW_xM"
   },
   "source": [
    "### Algumas questões para considerarmos\n",
    "\n",
    "-  O que teria acontecido se nós tivéssemos atrasado a avaliação da função `is_even(x)`?"
   ]
  },
  {
   "cell_type": "markdown",
   "metadata": {
    "id": "Lb5-6gHlW_xN"
   },
   "source": [
    "## Fechar o cliente\n",
    "\n",
    "Vamos nos assegurar de encerrar o cliente."
   ]
  },
  {
   "cell_type": "code",
   "execution_count": 18,
   "metadata": {
    "id": "hulMFfQPW_xN"
   },
   "outputs": [],
   "source": [
    "client.close()"
   ]
  }
 ],
 "metadata": {
  "colab": {
   "provenance": [
    {
     "file_id": "1rQnRi5KzH4kNVLvxOPaImhyBKXan-IMa",
     "timestamp": 1665748788417
    }
   ]
  },
  "kernelspec": {
   "display_name": "Python 3 (ipykernel)",
   "language": "python",
   "name": "python3"
  },
  "language_info": {
   "codemirror_mode": {
    "name": "ipython",
    "version": 3
   },
   "file_extension": ".py",
   "mimetype": "text/x-python",
   "name": "python",
   "nbconvert_exporter": "python",
   "pygments_lexer": "ipython3",
   "version": "3.10.6"
  }
 },
 "nbformat": 4,
 "nbformat_minor": 1
}
